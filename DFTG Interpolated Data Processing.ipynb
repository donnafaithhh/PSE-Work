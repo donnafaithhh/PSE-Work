{
 "cells": [
  {
   "cell_type": "markdown",
   "id": "3a511831-28a6-4be4-abed-c93334a9d73a",
   "metadata": {},
   "source": [
    "This cell is for importing necessary modules."
   ]
  },
  {
   "cell_type": "code",
   "execution_count": 1,
   "id": "69340e05-ce49-46ea-a975-1c2ae2bbe3f6",
   "metadata": {
    "execution": {
     "iopub.execute_input": "2025-03-07T05:48:35.980346Z",
     "iopub.status.busy": "2025-03-07T05:48:35.979911Z",
     "iopub.status.idle": "2025-03-07T05:48:36.979572Z",
     "shell.execute_reply": "2025-03-07T05:48:36.978460Z",
     "shell.execute_reply.started": "2025-03-07T05:48:35.980284Z"
    }
   },
   "outputs": [],
   "source": [
    "import heapq  # for minimum spanning tree\n",
    "import itertools\n",
    "import os\n",
    "import pickle  # for saving the data\n",
    "\n",
    "import matplotlib.pyplot as plt\n",
    "import numpy as np\n",
    "import pandas as pd"
   ]
  },
  {
   "cell_type": "markdown",
   "id": "2bcb7972-cfd7-439b-95e9-2b0502acaa80",
   "metadata": {},
   "source": [
    "This cell is for reading the data file and only looking at the prices for different stocks."
   ]
  },
  {
   "cell_type": "code",
   "execution_count": 2,
   "id": "e9c7fba9-e4b2-4dd7-953f-0dbcfaceed0b",
   "metadata": {
    "execution": {
     "iopub.execute_input": "2025-03-07T05:48:36.981403Z",
     "iopub.status.busy": "2025-03-07T05:48:36.981083Z",
     "iopub.status.idle": "2025-03-07T05:48:39.408823Z",
     "shell.execute_reply": "2025-03-07T05:48:39.407870Z",
     "shell.execute_reply.started": "2025-03-07T05:48:36.981381Z"
    }
   },
   "outputs": [],
   "source": [
    "PSE_data = pd.read_csv(\"daily.csv\")\n",
    "PSE_data[\"date_id\"] = pd.to_datetime(PSE_data[\"date_id\"])\n",
    "PSE_data = PSE_data.set_index(\"date_id\")\n",
    "df_filtered = PSE_data.drop(\n",
    "    columns=[\n",
    "        col\n",
    "        for col in PSE_data.columns\n",
    "        if not (col.startswith(\"PH_\") and col.endswith(\"_P\")) and col != \"date_id\"\n",
    "    ]\n",
    ")\n",
    "df_filtered = df_filtered.loc[\"2013-06-25\":\"2023-09-26\"]"
   ]
  },
  {
   "cell_type": "markdown",
   "id": "e66ca06b-fc14-4ea9-b13c-798b3c36494a",
   "metadata": {},
   "source": [
    "This code is for removing the other rows that are not within the last 10 years of the data. I also used the date June 25, 2013 as the start date so that:\n",
    "- the window size will not cut the amount of days\n",
    "- when I calculate log returns, I will have exactly 10 years worth of data. "
   ]
  },
  {
   "cell_type": "code",
   "execution_count": 3,
   "id": "591dccc6-023b-4d83-bda2-334676c87a34",
   "metadata": {
    "execution": {
     "iopub.execute_input": "2025-03-07T05:48:39.409935Z",
     "iopub.status.busy": "2025-03-07T05:48:39.409659Z",
     "iopub.status.idle": "2025-03-07T05:48:39.414308Z",
     "shell.execute_reply": "2025-03-07T05:48:39.413509Z",
     "shell.execute_reply.started": "2025-03-07T05:48:39.409913Z"
    },
    "jupyter": {
     "source_hidden": true
    }
   },
   "outputs": [],
   "source": [
    "# def has_high_null_percentage(column, null_threshold):\n",
    "#     return column.isnull().mean() > null_threshold\n",
    "\n",
    "# # def has_consecutive_constant_values(column, threshold):\n",
    "# #     constant_streak = column.groupby((column != column.shift()).cumsum()).transform('size')\n",
    "# #     return constant_streak.max() > threshold\n",
    "\n",
    "# # def has_end_constant_values(column, end_threshold):\n",
    "# #     end_section = column.iloc[-int(len(column) * 0.05):]\n",
    "# #     return end_section.nunique() == 1\n",
    "\n",
    "# # def has_few_variations(column, variation_threshold):\n",
    "# #     return column.nunique() < variation_threshold\n",
    "\n",
    "# null_percentage_threshold = round(df_filtered.shape[0] * 0.85)\n",
    "# # consecutive_constant_threshold = int(len(df_filtered) * 0.35)\n",
    "# # end_constant_threshold = 0.01\n",
    "# # variation_threshold = 50\n",
    "\n",
    "# columns_to_drop = []\n",
    "\n",
    "# for col in df_filtered.columns:\n",
    "#     if col == \"date_id\":\n",
    "#         continue\n",
    "\n",
    "#     if (\n",
    "#         has_high_null_percentage(df_filtered[col], null_percentage_threshold) # or\n",
    "#         # has_consecutive_constant_values(df_filtered[col], consecutive_constant_threshold) or\n",
    "#         # has_end_constant_values(df_filtered[col], end_constant_threshold) or\n",
    "#         # has_few_variations(df_filtered[col], variation_threshold)\n",
    "#     ):\n",
    "#         columns_to_drop.append(col)\n",
    "\n",
    "# df_filtered = df_filtered.drop(columns=columns_to_drop)"
   ]
  },
  {
   "cell_type": "code",
   "execution_count": 4,
   "id": "268d0f54-8a40-4243-8b90-3e51235268f0",
   "metadata": {
    "execution": {
     "iopub.execute_input": "2025-03-07T05:48:39.415331Z",
     "iopub.status.busy": "2025-03-07T05:48:39.415093Z",
     "iopub.status.idle": "2025-03-07T05:48:39.465576Z",
     "shell.execute_reply": "2025-03-07T05:48:39.464439Z",
     "shell.execute_reply.started": "2025-03-07T05:48:39.415308Z"
    },
    "scrolled": true
   },
   "outputs": [],
   "source": [
    "def has_high_null_percentage(column, null_threshold):\n",
    "    return column.isnull().sum() > null_threshold\n",
    "\n",
    "\n",
    "null_percentage_threshold = round(df_filtered.shape[0] * 0.80)\n",
    "\n",
    "columns_to_drop = []\n",
    "for col in df_filtered.columns:\n",
    "    if col == \"date_id\":\n",
    "        continue\n",
    "    if has_high_null_percentage(df_filtered[col], null_percentage_threshold):\n",
    "        columns_to_drop.append(col)\n",
    "\n",
    "df_filtered = df_filtered.drop(columns=columns_to_drop)"
   ]
  },
  {
   "cell_type": "code",
   "execution_count": 5,
   "id": "9840d73e-1370-4b8c-b18e-0d76d68eafe7",
   "metadata": {
    "execution": {
     "iopub.execute_input": "2025-03-07T05:48:39.466643Z",
     "iopub.status.busy": "2025-03-07T05:48:39.466388Z",
     "iopub.status.idle": "2025-03-07T05:48:39.477504Z",
     "shell.execute_reply": "2025-03-07T05:48:39.476519Z",
     "shell.execute_reply.started": "2025-03-07T05:48:39.466619Z"
    }
   },
   "outputs": [
    {
     "data": {
      "text/plain": [
       "PH_ASA_P      0\n",
       "PH_ABS_P      0\n",
       "PH_AGN_P      0\n",
       "PH_APC_P      0\n",
       "PH_CHP_P    799\n",
       "           ... \n",
       "PH_H2O_P      0\n",
       "PH_PRC_P      0\n",
       "PH_SSN_P      0\n",
       "PH_SIN_P      0\n",
       "PH_SHK_P    907\n",
       "Length: 277, dtype: int64"
      ]
     },
     "execution_count": 5,
     "metadata": {},
     "output_type": "execute_result"
    }
   ],
   "source": [
    "df_filtered.isnull().sum()"
   ]
  },
  {
   "cell_type": "code",
   "execution_count": 6,
   "id": "0dd1ba1f-7514-4c07-8fb5-ca0c0e6b5be7",
   "metadata": {
    "execution": {
     "iopub.execute_input": "2025-03-07T05:48:39.478471Z",
     "iopub.status.busy": "2025-03-07T05:48:39.478235Z",
     "iopub.status.idle": "2025-03-07T05:48:40.053893Z",
     "shell.execute_reply": "2025-03-07T05:48:40.052787Z",
     "shell.execute_reply.started": "2025-03-07T05:48:39.478447Z"
    },
    "scrolled": true
   },
   "outputs": [],
   "source": [
    "# turn constant values into nans\n",
    "\n",
    "for col in df_filtered.columns:\n",
    "    df_filtered[col] = df_filtered[col].mask(\n",
    "        df_filtered[col] == df_filtered[col].shift()\n",
    "    )\n",
    "\n",
    "valid_cols = [col for col in df_filtered.columns if df_filtered[col].notna().sum() > 10]\n",
    "valid_df = df_filtered[valid_cols]  # valid_cols is a dataframe\n",
    "# df_filtered.loc[df_filtered.index[-1], valid_cols] = valid_df.ffill().iloc[-1] #removed this\n",
    "df_interpolated = valid_df.interpolate(method=\"akima\")"
   ]
  },
  {
   "cell_type": "code",
   "execution_count": 7,
   "id": "9892bfd6-327f-4a4a-9a4e-7b85090f0f6a",
   "metadata": {
    "execution": {
     "iopub.execute_input": "2025-03-07T05:48:40.055119Z",
     "iopub.status.busy": "2025-03-07T05:48:40.054730Z",
     "iopub.status.idle": "2025-03-07T05:48:40.071028Z",
     "shell.execute_reply": "2025-03-07T05:48:40.069879Z",
     "shell.execute_reply.started": "2025-03-07T05:48:40.055099Z"
    }
   },
   "outputs": [
    {
     "data": {
      "text/plain": [
       "PH_ASA_P    2544\n",
       "PH_ABS_P    2020\n",
       "PH_AGN_P    2403\n",
       "PH_APC_P    2630\n",
       "PH_CHP_P    2578\n",
       "            ... \n",
       "PH_H2O_P    2447\n",
       "PH_PRC_P    2524\n",
       "PH_SSN_P    2382\n",
       "PH_SIN_P    2646\n",
       "PH_SHK_P    2452\n",
       "Length: 226, dtype: int64"
      ]
     },
     "execution_count": 7,
     "metadata": {},
     "output_type": "execute_result"
    }
   ],
   "source": [
    "valid_df.isnull().sum()"
   ]
  },
  {
   "cell_type": "code",
   "execution_count": 8,
   "id": "0ff0d36f-2cab-4096-b7c2-f6be357a8555",
   "metadata": {
    "execution": {
     "iopub.execute_input": "2025-03-07T05:48:40.073517Z",
     "iopub.status.busy": "2025-03-07T05:48:40.073295Z",
     "iopub.status.idle": "2025-03-07T05:48:40.088929Z",
     "shell.execute_reply": "2025-03-07T05:48:40.088097Z",
     "shell.execute_reply.started": "2025-03-07T05:48:40.073498Z"
    }
   },
   "outputs": [
    {
     "name": "stdout",
     "output_type": "stream",
     "text": [
      "(2676, 226)\n",
      "PH_ASA_P      70\n",
      "PH_ABS_P       8\n",
      "PH_AGN_P      17\n",
      "PH_APC_P     698\n",
      "PH_CHP_P    1497\n",
      "            ... \n",
      "PH_H2O_P      88\n",
      "PH_PRC_P      13\n",
      "PH_SSN_P     158\n",
      "PH_SIN_P      94\n",
      "PH_SHK_P     913\n",
      "Length: 226, dtype: int64\n"
     ]
    }
   ],
   "source": [
    "print(df_interpolated.shape)\n",
    "print(df_interpolated.isnull().sum())"
   ]
  },
  {
   "cell_type": "code",
   "execution_count": 9,
   "id": "dc15ddd8-7071-42d3-beca-5fb235e989c2",
   "metadata": {
    "execution": {
     "iopub.execute_input": "2025-03-07T05:48:40.089845Z",
     "iopub.status.busy": "2025-03-07T05:48:40.089588Z",
     "iopub.status.idle": "2025-03-07T05:48:40.127598Z",
     "shell.execute_reply": "2025-03-07T05:48:40.126730Z",
     "shell.execute_reply.started": "2025-03-07T05:48:40.089824Z"
    }
   },
   "outputs": [],
   "source": [
    "columns_to_drop = []\n",
    "for col in df_interpolated.columns:\n",
    "    if col == \"date_id\":\n",
    "        continue\n",
    "    if has_high_null_percentage(df_interpolated[col], null_percentage_threshold):\n",
    "        columns_to_drop.append(col)\n",
    "\n",
    "df_interpolated = df_interpolated.drop(columns=columns_to_drop)"
   ]
  },
  {
   "cell_type": "code",
   "execution_count": 10,
   "id": "a73899f6-63e2-4318-832b-6b8fdad97452",
   "metadata": {
    "execution": {
     "iopub.execute_input": "2025-03-07T05:48:40.128563Z",
     "iopub.status.busy": "2025-03-07T05:48:40.128313Z",
     "iopub.status.idle": "2025-03-07T05:48:40.133829Z",
     "shell.execute_reply": "2025-03-07T05:48:40.132967Z",
     "shell.execute_reply.started": "2025-03-07T05:48:40.128544Z"
    }
   },
   "outputs": [
    {
     "data": {
      "text/plain": [
       "(2676, 220)"
      ]
     },
     "execution_count": 10,
     "metadata": {},
     "output_type": "execute_result"
    }
   ],
   "source": [
    "df_interpolated.shape"
   ]
  },
  {
   "cell_type": "code",
   "execution_count": 11,
   "id": "ab4fbed4-bf8d-472d-91f6-a84a031a87d9",
   "metadata": {
    "execution": {
     "iopub.execute_input": "2025-03-07T05:48:40.134686Z",
     "iopub.status.busy": "2025-03-07T05:48:40.134451Z",
     "iopub.status.idle": "2025-03-07T05:48:40.335122Z",
     "shell.execute_reply": "2025-03-07T05:48:40.334029Z",
     "shell.execute_reply.started": "2025-03-07T05:48:40.134668Z"
    }
   },
   "outputs": [
    {
     "data": {
      "image/png": "[encoded data removed]",
      "text/plain": [
       "<Figure size 640x480 with 1 Axes>"
      ]
     },
     "metadata": {},
     "output_type": "display_data"
    }
   ],
   "source": [
    "# This is for original data\n",
    "for col in valid_df.iloc[:, :3]:\n",
    "    plt.plot(valid_df[col])\n",
    "plt.show()"
   ]
  },
  {
   "cell_type": "code",
   "execution_count": 12,
   "id": "094476c5-b224-4f66-979a-843034aa15da",
   "metadata": {
    "execution": {
     "iopub.execute_input": "2025-03-07T05:48:40.336316Z",
     "iopub.status.busy": "2025-03-07T05:48:40.336037Z",
     "iopub.status.idle": "2025-03-07T05:48:40.468795Z",
     "shell.execute_reply": "2025-03-07T05:48:40.467779Z",
     "shell.execute_reply.started": "2025-03-07T05:48:40.336289Z"
    }
   },
   "outputs": [
    {
     "data": {
      "image/png": "[encoded data removed]",
      "text/plain": [
       "<Figure size 640x480 with 1 Axes>"
      ]
     },
     "metadata": {},
     "output_type": "display_data"
    }
   ],
   "source": [
    "# This is for akima\n",
    "for col in df_interpolated.iloc[:, :3]:\n",
    "    plt.plot(df_interpolated[col])\n",
    "plt.show()"
   ]
  },
  {
   "cell_type": "markdown",
   "id": "e5972c7d-3d19-4113-bdf9-ba1f99d879a2",
   "metadata": {},
   "source": [
    "This cell is for calculating log returns."
   ]
  },
  {
   "cell_type": "code",
   "execution_count": 13,
   "id": "618a4da6-6351-4c26-b309-3c73063a1e97",
   "metadata": {
    "execution": {
     "iopub.execute_input": "2025-03-07T05:48:40.469851Z",
     "iopub.status.busy": "2025-03-07T05:48:40.469502Z",
     "iopub.status.idle": "2025-03-07T05:48:40.560019Z",
     "shell.execute_reply": "2025-03-07T05:48:40.559234Z",
     "shell.execute_reply.started": "2025-03-07T05:48:40.469822Z"
    }
   },
   "outputs": [
    {
     "name": "stderr",
     "output_type": "stream",
     "text": [
      "/home/bsdsba2027/dfgo/.local/lib/python3.12/site-packages/pandas/core/internals/blocks.py:393: RuntimeWarning: invalid value encountered in log\n",
      "  result = func(self.values, **kwargs)\n"
     ]
    }
   ],
   "source": [
    "PSE_log_returns = df_interpolated.copy()\n",
    "numeric_cols = PSE_log_returns.columns.difference([\"date_id\"])\n",
    "PSE_log_returns[numeric_cols] = PSE_log_returns[numeric_cols].replace(0, np.nan)\n",
    "PSE_log_returns[numeric_cols] = np.log(\n",
    "    PSE_log_returns[numeric_cols] / PSE_log_returns[numeric_cols].shift(1)\n",
    ")"
   ]
  },
  {
   "cell_type": "markdown",
   "id": "485c6c4f-19a0-4ba3-b19e-f0b1260abb29",
   "metadata": {},
   "source": [
    "I removed the the row for September 25, 2013, and I filled all the nan values with zero."
   ]
  },
  {
   "cell_type": "code",
   "execution_count": 14,
   "id": "910a5f67-9f3d-408e-b1fa-fbbd898d4578",
   "metadata": {
    "execution": {
     "iopub.execute_input": "2025-03-07T05:48:40.561005Z",
     "iopub.status.busy": "2025-03-07T05:48:40.560794Z",
     "iopub.status.idle": "2025-03-07T05:48:40.568346Z",
     "shell.execute_reply": "2025-03-07T05:48:40.567500Z",
     "shell.execute_reply.started": "2025-03-07T05:48:40.560985Z"
    },
    "scrolled": true
   },
   "outputs": [],
   "source": [
    "PSE_log_returns = PSE_log_returns.loc[\"2013-09-26\":\"2023-09-26\"]\n",
    "PSE_log_returns.columns = PSE_log_returns.columns.str.replace(r\"_P\", \"\").str.replace(\n",
    "    r\"PH_\", \"\"\n",
    ")"
   ]
  },
  {
   "cell_type": "code",
   "execution_count": 15,
   "id": "bdc18058-7981-4b5f-b3de-9a3ad3bf91a6",
   "metadata": {
    "execution": {
     "iopub.execute_input": "2025-03-07T05:48:40.569151Z",
     "iopub.status.busy": "2025-03-07T05:48:40.568950Z",
     "iopub.status.idle": "2025-03-07T05:48:40.582545Z",
     "shell.execute_reply": "2025-03-07T05:48:40.581693Z",
     "shell.execute_reply.started": "2025-03-07T05:48:40.569131Z"
    }
   },
   "outputs": [],
   "source": [
    "returns_df = PSE_log_returns.copy()\n",
    "PSE_log_returns = PSE_log_returns.to_numpy()"
   ]
  },
  {
   "cell_type": "code",
   "execution_count": 16,
   "id": "96fcfc89-78ec-4ef8-85f0-a95dc856a8b8",
   "metadata": {
    "execution": {
     "iopub.execute_input": "2025-03-07T05:48:40.583607Z",
     "iopub.status.busy": "2025-03-07T05:48:40.583368Z",
     "iopub.status.idle": "2025-03-07T05:48:40.591433Z",
     "shell.execute_reply": "2025-03-07T05:48:40.590527Z",
     "shell.execute_reply.started": "2025-03-07T05:48:40.583587Z"
    }
   },
   "outputs": [],
   "source": [
    "# from Prof. Jose's code with a few edits\n",
    "def returns_to_covar(returns, skips):\n",
    "    num_col = skips\n",
    "    test = np.zeros(shape=(num_col, num_col))\n",
    "    threshold = 0.1\n",
    "    returns[returns == 0] = np.nan\n",
    "\n",
    "    for i, j in list(itertools.combinations(np.arange(num_col), 2)):\n",
    "        row_mask = (~np.isnan(returns[:, i])) & (~np.isnan(returns[:, j]))\n",
    "        fraction_included = np.sum(row_mask) / len(returns)\n",
    "\n",
    "        if fraction_included < threshold:\n",
    "            test[i, j] = 0\n",
    "        else:\n",
    "            pi = returns[:, i][row_mask]\n",
    "            pj = returns[:, j][row_mask]\n",
    "            test[i, j] = np.sum((pi - np.mean(pi)) * (pj - np.mean(pj))) / len(pi)\n",
    "            # print(i, j)\n",
    "\n",
    "    # test = np.where(test, test, test.T)\n",
    "    for i in range(num_col):\n",
    "        row_mask = ~np.isnan(returns[:, i])\n",
    "        fraction_included = np.sum(row_mask) / len(returns)\n",
    "        if fraction_included < threshold:\n",
    "            test[i, i] = np.nan\n",
    "        else:\n",
    "            test[i, i] = np.nanstd(returns[:, i]) ** 2\n",
    "\n",
    "    nan_rows = np.isnan(test).any(axis=1)\n",
    "    nan_cols = np.isnan(test).any(axis=0)\n",
    "    keep_rows = ~nan_rows\n",
    "    keep_cols = ~nan_cols\n",
    "\n",
    "    arr_cleaned = test[keep_rows][:, keep_cols]\n",
    "    arr_cleaned = np.where(arr_cleaned, arr_cleaned, arr_cleaned.T)\n",
    "\n",
    "    return arr_cleaned\n",
    "\n",
    "\n",
    "# from: https://gist.github.com/wiso/ce2a9919ded228838703c1c7c7dad13b\n",
    "def covar_to_correl(cov_matrix):\n",
    "    std_devs = np.sqrt(np.diag(cov_matrix))\n",
    "    outer_v = np.outer(std_devs, std_devs)\n",
    "    correlation = cov_matrix / outer_v\n",
    "    correlation[cov_matrix == 0] = 0\n",
    "    return correlation\n",
    "\n",
    "\n",
    "# from: https://stackoverflow.com/questions/42908334/checking-if-a-matrix-is-symmetric-in-numpy\n",
    "def check_symmetric(a, rtol=1e-05, atol=1e-08):\n",
    "    return np.allclose(a, a.T, rtol=rtol, atol=atol)"
   ]
  },
  {
   "cell_type": "code",
   "execution_count": 17,
   "id": "3af74bdd-3e6d-4291-8e91-2dd4775ee401",
   "metadata": {
    "execution": {
     "iopub.execute_input": "2025-03-07T05:48:40.592254Z",
     "iopub.status.busy": "2025-03-07T05:48:40.592042Z",
     "iopub.status.idle": "2025-03-07T06:15:10.198446Z",
     "shell.execute_reply": "2025-03-07T06:15:10.197216Z",
     "shell.execute_reply.started": "2025-03-07T05:48:40.592234Z"
    }
   },
   "outputs": [
    {
     "name": "stderr",
     "output_type": "stream",
     "text": [
      "/tmp/ipykernel_5933/573843316.py:44: RuntimeWarning: invalid value encountered in divide\n",
      "  correlation = cov_matrix / outer_v\n"
     ]
    }
   ],
   "source": [
    "skips = len(returns_df.columns)\n",
    "window = 110\n",
    "counter = 0\n",
    "\n",
    "for i in range(len(returns_df.index)):\n",
    "    returns = PSE_log_returns[i : i + window]\n",
    "    returns = np.array(returns, dtype=np.float64)\n",
    "\n",
    "    # this is to get the covar matrix\n",
    "    covar_matrix = returns_to_covar(returns, skips)\n",
    "    counter += 1\n",
    "    covar_matrix = np.array(covar_matrix, dtype=np.float64)\n",
    "\n",
    "    # this is to get the correl matrix\n",
    "    correl_matrix = covar_to_correl(covar_matrix)\n",
    "    correl_matrix = np.nan_to_num(correl_matrix, nan=0, posinf=1, neginf=-1)\n",
    "    correl_matrix = np.clip(correl_matrix, -1, 1)\n",
    "    correl_matrix = np.array(correl_matrix, dtype=np.float64)\n",
    "\n",
    "    # this is to get the distance matrix\n",
    "    distance_matrix = 1 - np.square(correl_matrix)\n",
    "    distance_matrix = np.array(distance_matrix, dtype=np.float64)\n",
    "    \n",
    "    # # this is to save it in a pickle file\n",
    "    # tables = {\"PSE log returns\": returns,\n",
    "    #           \"covariance matrix\": covar_matrix, \n",
    "    #           \"correlation matrix\": correl_matrix, \n",
    "    #           \"distance matrix\": distance_matrix}\n",
    "    \n",
    "    # folder_path = \"matrices\"\n",
    "    # name = returns_df.index[counter-1]\n",
    "    # file_path = os.path.join(folder_path, f\"{window} {name}.pickl\")\n",
    "\n",
    "    # pd.to_pickle(tables, file_path)"
   ]
  },
  {
   "cell_type": "code",
   "execution_count": 26,
   "id": "2722f0c7-04b6-4642-b58f-aab3ff37e3f6",
   "metadata": {
    "execution": {
     "iopub.execute_input": "2025-03-07T06:31:56.605418Z",
     "iopub.status.busy": "2025-03-07T06:31:56.604892Z",
     "iopub.status.idle": "2025-03-07T06:31:56.617548Z",
     "shell.execute_reply": "2025-03-07T06:31:56.616290Z",
     "shell.execute_reply.started": "2025-03-07T06:31:56.605373Z"
    },
    "scrolled": true
   },
   "outputs": [
    {
     "data": {
      "text/plain": [
       "array([[0.        , 0.98937487, 0.99548263, ..., 0.99949373, 0.85695885,\n",
       "        0.98062761],\n",
       "       [0.98937487, 0.        , 0.99404103, ..., 0.98818716, 0.98960198,\n",
       "        0.99612143],\n",
       "       [0.99548263, 0.99404103, 0.        , ..., 0.99998355, 0.98363382,\n",
       "        0.99424175],\n",
       "       ...,\n",
       "       [0.99949373, 0.98818716, 0.99998355, ..., 0.        , 0.98185674,\n",
       "        0.99883565],\n",
       "       [0.85695885, 0.98960198, 0.98363382, ..., 0.98185674, 0.        ,\n",
       "        0.9897427 ],\n",
       "       [0.98062761, 0.99612143, 0.99424175, ..., 0.99883565, 0.9897427 ,\n",
       "        0.        ]])"
      ]
     },
     "execution_count": 26,
     "metadata": {},
     "output_type": "execute_result"
    }
   ],
   "source": [
    "filepath = 'matrices/110 2017-08-25 00:00:00.pickl'\n",
    "with open(filepath, 'rb') as f:\n",
    "    file = pickle.load(f)\n",
    "file['distance matrix']"
   ]
  },
  {
   "cell_type": "markdown",
   "id": "3f80af95-71eb-43c7-855c-65d534341278",
   "metadata": {
    "execution": {
     "iopub.execute_input": "2025-03-04T11:21:51.689256Z",
     "iopub.status.busy": "2025-03-04T11:21:51.687159Z",
     "iopub.status.idle": "2025-03-04T11:21:51.857824Z",
     "shell.execute_reply": "2025-03-04T11:21:51.851077Z",
     "shell.execute_reply.started": "2025-03-04T11:21:51.689091Z"
    },
    "jp-MarkdownHeadingCollapsed": true
   },
   "source": [
    "## Tests"
   ]
  },
  {
   "cell_type": "code",
   "execution_count": 18,
   "id": "51929935-756a-4973-9ce2-b092f17dc7a6",
   "metadata": {
    "execution": {
     "iopub.execute_input": "2025-03-07T06:15:10.199965Z",
     "iopub.status.busy": "2025-03-07T06:15:10.199680Z",
     "iopub.status.idle": "2025-03-07T06:15:10.665265Z",
     "shell.execute_reply": "2025-03-07T06:15:10.664463Z",
     "shell.execute_reply.started": "2025-03-07T06:15:10.199943Z"
    },
    "scrolled": true
   },
   "outputs": [
    {
     "name": "stdout",
     "output_type": "stream",
     "text": [
      "Returns matrix:\n",
      "[[ 0.00139305  0.04430279 -0.01597045 ...  0.00064523 -0.00585623\n",
      "  -0.00359958]\n",
      " [ 0.00138242  0.01900195 -0.01529954 ...  0.00048597 -0.00596647\n",
      "  -0.00275133]\n",
      " [ 0.00409748 -0.13353139 -0.03301763 ...  0.00047869 -0.01858129\n",
      "  -0.00235665]\n",
      " ...\n",
      " [ 0.04248197  0.13339505 -0.08758256 ...         nan  0.1169737\n",
      "   0.00576344]\n",
      " [ 0.00940516  0.03132265 -0.13353139 ...         nan  0.03719551\n",
      "   0.00187227]\n",
      " [ 0.00459743  0.02566075 -0.01242164 ...         nan  0.03635856\n",
      "   0.00184756]]\n",
      "Covar matrix:\n",
      "[[ 5.30519256e-05  8.10990492e-05 -2.96273002e-05 ... -1.56719662e-05\n",
      "   2.22776226e-04 -3.35408071e-05]\n",
      " [ 8.10990492e-05  7.11614244e-04 -1.50452428e-04 ...  5.06664147e-05\n",
      "   5.82176721e-04  3.35910610e-05]\n",
      " [-2.96273002e-05 -1.50452428e-04  9.26690063e-04 ... -3.98542325e-05\n",
      "   3.42016731e-05 -9.77138086e-06]\n",
      " ...\n",
      " [-1.56719662e-05  5.06664147e-05 -3.98542325e-05 ...  2.36650666e-04\n",
      "   4.06708443e-04  1.46464542e-04]\n",
      " [ 2.22776226e-04  5.82176721e-04  3.42016731e-05 ...  4.06708443e-04\n",
      "   2.99967045e-02  9.00169101e-05]\n",
      " [-3.35408071e-05  3.35910610e-05 -9.77138086e-06 ...  1.46464542e-04\n",
      "   9.00169101e-05  5.33426980e-04]]\n",
      "Correl matrix:\n",
      "[[ 1.          0.4173908  -0.13362086 ... -0.13986822  0.17659626\n",
      "  -0.19938177]\n",
      " [ 0.4173908   1.         -0.18527193 ...  0.12346504  0.12600731\n",
      "   0.05452101]\n",
      " [-0.13362086 -0.18527193  1.         ... -0.08510466  0.00648699\n",
      "  -0.01389796]\n",
      " ...\n",
      " [-0.13986822  0.12346504 -0.08510466 ...  1.          0.1526485\n",
      "   0.41223147]\n",
      " [ 0.17659626  0.12600731  0.00648699 ...  0.1526485   1.\n",
      "   0.02250349]\n",
      " [-0.19938177  0.05452101 -0.01389796 ...  0.41223147  0.02250349\n",
      "   1.        ]]\n",
      "Distance matrix:\n",
      "[[0.         0.82578492 0.98214547 ... 0.98043688 0.96881376 0.96024691]\n",
      " [0.82578492 0.         0.96567431 ... 0.98475638 0.98412216 0.99702746]\n",
      " [0.98214547 0.96567431 0.         ... 0.9927572  0.99995792 0.99980685]\n",
      " ...\n",
      " [0.98043688 0.98475638 0.9927572  ... 0.         0.97669843 0.83006522]\n",
      " [0.96881376 0.98412216 0.99995792 ... 0.97669843 0.         0.99949359]\n",
      " [0.96024691 0.99702746 0.99980685 ... 0.83006522 0.99949359 0.        ]]\n",
      "This matrix is symmetrical.\n",
      "This matrix is symmetrical.\n",
      "This matrix is symmetrical.\n"
     ]
    }
   ],
   "source": [
    "skips = len(returns_df.columns)\n",
    "window = 110\n",
    "counter = 0\n",
    "i = 2400\n",
    "\n",
    "returns = PSE_log_returns[i : i + window]\n",
    "returns = np.array(returns, dtype=np.float64)\n",
    "print(f\"Returns matrix:\\n{returns}\")\n",
    "\n",
    "# this is to get the covar matrix\n",
    "covar_matrix = returns_to_covar(returns, skips)\n",
    "counter += 1\n",
    "covar_matrix = np.array(covar_matrix, dtype=np.float64)\n",
    "print(f\"Covar matrix:\\n{covar_matrix}\")\n",
    "\n",
    "# this is to get the correl matrix\n",
    "correl_matrix = covar_to_correl(covar_matrix)\n",
    "correl_matrix = np.nan_to_num(correl_matrix, nan=0, posinf=1, neginf=-1)\n",
    "correl_matrix = np.clip(correl_matrix, -1, 1)\n",
    "correl_matrix = np.array(correl_matrix, dtype=np.float64)\n",
    "print(f\"Correl matrix:\\n{correl_matrix}\")\n",
    "\n",
    "# this is to get the distance matrix\n",
    "distance_matrix = 1 - np.square(correl_matrix)\n",
    "distance_matrix = np.array(distance_matrix, dtype=np.float64)\n",
    "print(f\"Distance matrix:\\n{distance_matrix}\")\n",
    "\n",
    "matrices = [covar_matrix, correl_matrix, distance_matrix]\n",
    "for matrix in matrices:\n",
    "    if check_symmetric(matrix) == True:\n",
    "        print(\"This matrix is symmetrical.\")\n",
    "        # symmetry = np.max(np.abs(matrix - matrix.T))\n",
    "        # print(f\"{symmetry:.100f}\")\n",
    "        # print(counter)\n",
    "    if check_symmetric(matrix) == False:\n",
    "        print(\"This matrix is not symmetrical.\")\n",
    "        symmetry = np.max(np.abs(matrix - matrix.T))\n",
    "        print(f\"{symmetry:.100f}\")\n",
    "        # print(counter)"
   ]
  },
  {
   "cell_type": "code",
   "execution_count": 19,
   "id": "c799f2df-1647-4327-a3b8-b3786fe8d9ef",
   "metadata": {
    "execution": {
     "iopub.execute_input": "2025-03-07T06:15:10.666159Z",
     "iopub.status.busy": "2025-03-07T06:15:10.665894Z",
     "iopub.status.idle": "2025-03-07T06:15:10.670545Z",
     "shell.execute_reply": "2025-03-07T06:15:10.669841Z",
     "shell.execute_reply.started": "2025-03-07T06:15:10.666141Z"
    }
   },
   "outputs": [],
   "source": [
    "def check_diagonals(matrix, target_value):\n",
    "    for i in range(min(len(matrix), len(matrix[0]))):\n",
    "        if matrix[i][i] != target_value:\n",
    "            print(f\"Diagonal has a weird value at index {i, i}: {matrix[i][i]}\")"
   ]
  },
  {
   "cell_type": "code",
   "execution_count": 20,
   "id": "0091b8c6-bf40-4a73-ac06-069cd881faac",
   "metadata": {
    "execution": {
     "iopub.execute_input": "2025-03-07T06:15:10.671506Z",
     "iopub.status.busy": "2025-03-07T06:15:10.671290Z",
     "iopub.status.idle": "2025-03-07T06:15:10.676561Z",
     "shell.execute_reply": "2025-03-07T06:15:10.675577Z",
     "shell.execute_reply.started": "2025-03-07T06:15:10.671487Z"
    },
    "scrolled": true
   },
   "outputs": [],
   "source": [
    "check_diagonals(distance_matrix, 0)"
   ]
  },
  {
   "cell_type": "code",
   "execution_count": 21,
   "id": "f52ddc79-0572-4d1b-90b0-481d4ef2b890",
   "metadata": {
    "execution": {
     "iopub.execute_input": "2025-03-07T06:15:10.677653Z",
     "iopub.status.busy": "2025-03-07T06:15:10.677424Z",
     "iopub.status.idle": "2025-03-07T06:15:10.682214Z",
     "shell.execute_reply": "2025-03-07T06:15:10.681526Z",
     "shell.execute_reply.started": "2025-03-07T06:15:10.677634Z"
    }
   },
   "outputs": [],
   "source": [
    "check_diagonals(correl_matrix, 1)"
   ]
  },
  {
   "cell_type": "code",
   "execution_count": 22,
   "id": "964612a0-55e4-44fe-8d68-bb637163e217",
   "metadata": {
    "execution": {
     "iopub.execute_input": "2025-03-07T06:15:10.683081Z",
     "iopub.status.busy": "2025-03-07T06:15:10.682868Z",
     "iopub.status.idle": "2025-03-07T06:15:10.800775Z",
     "shell.execute_reply": "2025-03-07T06:15:10.799894Z",
     "shell.execute_reply.started": "2025-03-07T06:15:10.683047Z"
    }
   },
   "outputs": [
    {
     "data": {
      "image/png": "[encoded data removed]",
      "text/plain": [
       "<Figure size 640x480 with 1 Axes>"
      ]
     },
     "metadata": {},
     "output_type": "display_data"
    }
   ],
   "source": [
    "flat = distance_matrix.flatten()\n",
    "plt.hist(flat, bins=21)\n",
    "plt.ylim(0, 1000)\n",
    "plt.xlim(0.2, 0.8)\n",
    "plt.show()"
   ]
  },
  {
   "cell_type": "code",
   "execution_count": null,
   "id": "2c4da814-dbf1-488c-b7c1-4ec963c12734",
   "metadata": {},
   "outputs": [],
   "source": []
  }
 ],
 "metadata": {
  "kernelspec": {
   "display_name": "Python [conda env:base] *",
   "language": "python",
   "name": "conda-base-py"
  },
  "language_info": {
   "codemirror_mode": {
    "name": "ipython",
    "version": 3
   },
   "file_extension": ".py",
   "mimetype": "text/x-python",
   "name": "python",
   "nbconvert_exporter": "python",
   "pygments_lexer": "ipython3",
   "version": "3.12.8"
  }
 },
 "nbformat": 4,
 "nbformat_minor": 5
}
