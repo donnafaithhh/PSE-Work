{
 "cells": [
  {
   "cell_type": "code",
   "execution_count": 1,
   "id": "35f65901-2a6e-4ee5-ad3c-2d9cac4316ee",
   "metadata": {
    "execution": {
     "iopub.execute_input": "2025-02-18T04:29:13.525121Z",
     "iopub.status.busy": "2025-02-18T04:29:13.524890Z",
     "iopub.status.idle": "2025-02-18T04:29:14.462354Z",
     "shell.execute_reply": "2025-02-18T04:29:14.461397Z",
     "shell.execute_reply.started": "2025-02-18T04:29:13.525102Z"
    }
   },
   "outputs": [],
   "source": [
    "import pandas as pd\n",
    "import numpy as np\n",
    "import matplotlib.pyplot as plt\n",
    "import heapq # for minimum spanning tree\n",
    "import pickle # for saving the data\n",
    "import os\n",
    "import itertools"
   ]
  },
  {
   "cell_type": "code",
   "execution_count": 22,
   "id": "7dc6dcd5-68f0-46f4-a0bc-6fd6b29b9cff",
   "metadata": {
    "execution": {
     "iopub.execute_input": "2025-02-18T04:45:52.222780Z",
     "iopub.status.busy": "2025-02-18T04:45:52.221873Z",
     "iopub.status.idle": "2025-02-18T04:45:52.240698Z",
     "shell.execute_reply": "2025-02-18T04:45:52.239225Z",
     "shell.execute_reply.started": "2025-02-18T04:45:52.222709Z"
    }
   },
   "outputs": [],
   "source": [
    "# from Prof. Jose's code\n",
    "def returns_to_covar(returns):\n",
    "    num_col = skips\n",
    "    test = np.zeros(shape = (num_col, num_col))\n",
    "    \n",
    "    for i, j in list(itertools.combinations(np.arange(num_col), 2)):\n",
    "        row_mask = (~np.isnan(returns[:, i]))&(~np.isnan(returns[:, j]))\n",
    "        pi = returns[:, i][row_mask]\n",
    "        pj = returns[:, j][row_mask]\n",
    "        test[i, j] = np.sum((pi - np.mean(pi))*(pj - np.mean(pj)))/len(pi)\n",
    "        #print(i, j)\n",
    "        \n",
    "    test = np.where(test,test,test.T)\n",
    "    for i in range(num_col):\n",
    "        test[i, i] = np.nanstd(returns[:, i])**2\n",
    "    \n",
    "    return test\n",
    "\n",
    "# from: https://gist.github.com/wiso/ce2a9919ded228838703c1c7c7dad13b\n",
    "def covar_to_correl(cov_matrix):\n",
    "    std_devs = np.sqrt(np.diag(cov_matrix))\n",
    "    outer_v = np.outer(std_devs, std_devs)\n",
    "    correlation = cov_matrix / outer_v\n",
    "    correlation[cov_matrix == 0] = 0\n",
    "    return correlation\n",
    "\n",
    "# from: https://stackoverflow.com/questions/42908334/checking-if-a-matrix-is-symmetric-in-numpy\n",
    "# def check_symmetric(a, rtol=1e-05, atol=1e-08):\n",
    "#     return np.allclose(a, a.T, rtol=rtol, atol=atol)\n",
    "\n",
    "def check_symmetric(a, tol=1e-8):\n",
    "    return np.all(np.abs(a-a.T) < tol)"
   ]
  },
  {
   "cell_type": "markdown",
   "id": "0d420e14-a97e-4b66-9850-a72f9db6cded",
   "metadata": {
    "jp-MarkdownHeadingCollapsed": true
   },
   "source": [
    "## own dataframe"
   ]
  },
  {
   "cell_type": "code",
   "execution_count": 15,
   "id": "e453b6c3-2955-4e85-a30f-0c2f1f801dfc",
   "metadata": {
    "execution": {
     "iopub.execute_input": "2025-02-18T04:36:24.311087Z",
     "iopub.status.busy": "2025-02-18T04:36:24.310416Z",
     "iopub.status.idle": "2025-02-18T04:36:24.330888Z",
     "shell.execute_reply": "2025-02-18T04:36:24.329487Z",
     "shell.execute_reply.started": "2025-02-18T04:36:24.311032Z"
    },
    "scrolled": true
   },
   "outputs": [
    {
     "data": {
      "text/plain": [
       "array([[ 1.,  1., nan],\n",
       "       [ 2.,  2.,  1.],\n",
       "       [ 3.,  3.,  9.],\n",
       "       [ 4.,  4., nan],\n",
       "       [ 5.,  5.,  1.],\n",
       "       [ 6.,  6.,  9.],\n",
       "       [ 6.,  1., nan],\n",
       "       [ 5.,  2.,  1.],\n",
       "       [ 4.,  3.,  9.],\n",
       "       [ 3.,  4., nan],\n",
       "       [ 2.,  5.,  1.],\n",
       "       [ 1.,  6.,  9.],\n",
       "       [ 2.,  1., nan],\n",
       "       [ 2.,  2.,  1.],\n",
       "       [ 2.,  3.,  9.],\n",
       "       [ 2.,  4., nan],\n",
       "       [ 2.,  5.,  1.],\n",
       "       [ 2.,  6.,  9.]])"
      ]
     },
     "execution_count": 15,
     "metadata": {},
     "output_type": "execute_result"
    }
   ],
   "source": [
    "test_df = pd.DataFrame({\n",
    "    'a':[1, 2, 3, 4, 5, 6, 6, 5, 4, 3, 2, 1, 2, 2, 2, 2, 2, 2],\n",
    "    'b':[1, 2, 3, 4, 5, 6, 1, 2, 3, 4, 5, 6, 1, 2, 3, 4, 5, 6],\n",
    "    'c':[np.nan, 1, 9, np.nan, 1, 9, np.nan, 1, 9, np.nan, 1, 9, np.nan, 1, 9, np.nan, 1, 9]\n",
    "},\n",
    "    index=pd.date_range(20200601, periods=18, freq='d')\n",
    ")\n",
    "test_arr = test_df.to_numpy()\n",
    "test_arr"
   ]
  },
  {
   "cell_type": "code",
   "execution_count": 16,
   "id": "20cf69ff-9ad0-4ebe-b3b5-268dda34b8c2",
   "metadata": {
    "execution": {
     "iopub.execute_input": "2025-02-18T04:36:25.912377Z",
     "iopub.status.busy": "2025-02-18T04:36:25.911684Z",
     "iopub.status.idle": "2025-02-18T04:36:25.944618Z",
     "shell.execute_reply": "2025-02-18T04:36:25.943537Z",
     "shell.execute_reply.started": "2025-02-18T04:36:25.912321Z"
    },
    "scrolled": true
   },
   "outputs": [
    {
     "name": "stderr",
     "output_type": "stream",
     "text": [
      "/tmp/ipykernel_16150/651759837.py:23: RuntimeWarning: invalid value encountered in divide\n",
      "  correlation = cov_matrix / outer_v\n"
     ]
    }
   ],
   "source": [
    "skips = len(test_df.columns)\n",
    "window = 4\n",
    "counter = 0\n",
    "\n",
    "for i in range(len(test_df.index)):\n",
    "    # this is to get the matrix\n",
    "    returns = test_arr[i:i+window]\n",
    "\n",
    "    # this is to get the covar matrix\n",
    "    covar_matrix = returns_to_covar(returns)\n",
    "    counter += 1\n",
    "    # print(f\"Covar matrix:\\n{covar_matrix}\")\n",
    "    \n",
    "    # this is to get the correl matrix\n",
    "    correl_matrix = covar_to_correl(covar_matrix)\n",
    "    # print(f\"Correl matrix:\\n{correl_matrix}\")\n",
    "    \n",
    "    # this is to get the distance matrix\n",
    "    distance_matrix = 1 - np.square(correl_matrix)\n",
    "    # print(f\"Distance matrix:\\n{distance_matrix}\")\n",
    "\n",
    "    matrices = [covar_matrix, correl_matrix, distance_matrix]\n",
    "    for matrix in matrices:\n",
    "        if check_symmetric(matrix) == False:\n",
    "            print(\"This matrix is not symmetrical.\")\n",
    "            print(counter)"
   ]
  },
  {
   "cell_type": "code",
   "execution_count": 5,
   "id": "820b9aca-a5f3-4417-ad27-ca3cf1a67e3d",
   "metadata": {
    "execution": {
     "iopub.execute_input": "2025-02-18T04:29:14.516995Z",
     "iopub.status.busy": "2025-02-18T04:29:14.516795Z",
     "iopub.status.idle": "2025-02-18T04:29:14.520627Z",
     "shell.execute_reply": "2025-02-18T04:29:14.520131Z",
     "shell.execute_reply.started": "2025-02-18T04:29:14.516977Z"
    },
    "jupyter": {
     "source_hidden": true
    },
    "scrolled": true
   },
   "outputs": [],
   "source": [
    "# skips = len(test_df.columns)\n",
    "# window = 55\n",
    "\n",
    "# for i in range(len(test_df.index)):\n",
    "#     # this is to get the matrix\n",
    "#     returns = test_arr[i:i+window]\n",
    "\n",
    "#     # this is to get the covar matrix\n",
    "#     covar_matrix = returns_to_covar(returns)\n",
    "#     print(covar_matrix)\n",
    "    \n",
    "#     # this is to make the correlation matrix \n",
    "#     correl_matrix = covar_to_correl(covar_matrix) \n",
    "    \n",
    "#     # this is to make the distance matrix\n",
    "#     distance_matrix = 1 - np.square(correl_matrix)\n",
    "\n",
    "#     # this is to save it into a pickle file\n",
    "#     tables = {\"covariance matrix\": covar1, \n",
    "#               \"correlation matrix\": correl_matrix, \n",
    "#               \"distance matrix\": distance_matrix}\n",
    "    \n",
    "#     # folder_path = \"matrices\"\n",
    "#     # name = covar1.index.get_level_values(\"date_id\").unique().to_list()[0].strftime(\"%Y-%m-%d\")\n",
    "#     # file_path = os.path.join(folder_path, f\"{name}.pickl\")\n",
    "\n",
    "#     # pd.to_pickle(tables, file_path)"
   ]
  },
  {
   "cell_type": "markdown",
   "id": "6be9d46c-ee39-4b49-bfad-8640e36b2459",
   "metadata": {
    "jp-MarkdownHeadingCollapsed": true
   },
   "source": [
    "## 3 stocks in the PSE"
   ]
  },
  {
   "cell_type": "code",
   "execution_count": 12,
   "id": "0658a505-c3d5-4a31-8fd5-806763a88b25",
   "metadata": {
    "collapsed": true,
    "execution": {
     "iopub.execute_input": "2025-02-18T04:35:50.059773Z",
     "iopub.status.busy": "2025-02-18T04:35:50.059069Z",
     "iopub.status.idle": "2025-02-18T04:35:52.560841Z",
     "shell.execute_reply": "2025-02-18T04:35:52.559998Z",
     "shell.execute_reply.started": "2025-02-18T04:35:50.059715Z"
    },
    "jupyter": {
     "outputs_hidden": true
    }
   },
   "outputs": [
    {
     "data": {
      "text/html": [
       "<div>\n",
       "<style scoped>\n",
       "    .dataframe tbody tr th:only-of-type {\n",
       "        vertical-align: middle;\n",
       "    }\n",
       "\n",
       "    .dataframe tbody tr th {\n",
       "        vertical-align: top;\n",
       "    }\n",
       "\n",
       "    .dataframe thead th {\n",
       "        text-align: right;\n",
       "    }\n",
       "</style>\n",
       "<table border=\"1\" class=\"dataframe\">\n",
       "  <thead>\n",
       "    <tr style=\"text-align: right;\">\n",
       "      <th></th>\n",
       "      <th>ASA</th>\n",
       "      <th>ABS</th>\n",
       "      <th>AGN</th>\n",
       "    </tr>\n",
       "    <tr>\n",
       "      <th>date_id</th>\n",
       "      <th></th>\n",
       "      <th></th>\n",
       "      <th></th>\n",
       "    </tr>\n",
       "  </thead>\n",
       "  <tbody>\n",
       "    <tr>\n",
       "      <th>2013-06-26</th>\n",
       "      <td>0.154151</td>\n",
       "      <td>0.026668</td>\n",
       "      <td>0.182322</td>\n",
       "    </tr>\n",
       "    <tr>\n",
       "      <th>2013-06-27</th>\n",
       "      <td>0.000000</td>\n",
       "      <td>0.025975</td>\n",
       "      <td>0.000000</td>\n",
       "    </tr>\n",
       "    <tr>\n",
       "      <th>2013-06-28</th>\n",
       "      <td>0.000000</td>\n",
       "      <td>-0.025975</td>\n",
       "      <td>0.000000</td>\n",
       "    </tr>\n",
       "    <tr>\n",
       "      <th>2013-07-01</th>\n",
       "      <td>0.000000</td>\n",
       "      <td>0.051293</td>\n",
       "      <td>0.000000</td>\n",
       "    </tr>\n",
       "    <tr>\n",
       "      <th>2013-07-02</th>\n",
       "      <td>0.000000</td>\n",
       "      <td>0.000000</td>\n",
       "      <td>0.000000</td>\n",
       "    </tr>\n",
       "    <tr>\n",
       "      <th>...</th>\n",
       "      <td>...</td>\n",
       "      <td>...</td>\n",
       "      <td>...</td>\n",
       "    </tr>\n",
       "    <tr>\n",
       "      <th>2023-09-20</th>\n",
       "      <td>0.000000</td>\n",
       "      <td>0.000000</td>\n",
       "      <td>0.000000</td>\n",
       "    </tr>\n",
       "    <tr>\n",
       "      <th>2023-09-21</th>\n",
       "      <td>0.000000</td>\n",
       "      <td>0.000000</td>\n",
       "      <td>0.000000</td>\n",
       "    </tr>\n",
       "    <tr>\n",
       "      <th>2023-09-22</th>\n",
       "      <td>0.000000</td>\n",
       "      <td>0.000000</td>\n",
       "      <td>0.000000</td>\n",
       "    </tr>\n",
       "    <tr>\n",
       "      <th>2023-09-25</th>\n",
       "      <td>0.000000</td>\n",
       "      <td>0.000000</td>\n",
       "      <td>0.000000</td>\n",
       "    </tr>\n",
       "    <tr>\n",
       "      <th>2023-09-26</th>\n",
       "      <td>0.000000</td>\n",
       "      <td>0.000000</td>\n",
       "      <td>0.000000</td>\n",
       "    </tr>\n",
       "  </tbody>\n",
       "</table>\n",
       "<p>2675 rows × 3 columns</p>\n",
       "</div>"
      ],
      "text/plain": [
       "                 ASA       ABS       AGN\n",
       "date_id                                 \n",
       "2013-06-26  0.154151  0.026668  0.182322\n",
       "2013-06-27  0.000000  0.025975  0.000000\n",
       "2013-06-28  0.000000 -0.025975  0.000000\n",
       "2013-07-01  0.000000  0.051293  0.000000\n",
       "2013-07-02  0.000000  0.000000  0.000000\n",
       "...              ...       ...       ...\n",
       "2023-09-20  0.000000  0.000000  0.000000\n",
       "2023-09-21  0.000000  0.000000  0.000000\n",
       "2023-09-22  0.000000  0.000000  0.000000\n",
       "2023-09-25  0.000000  0.000000  0.000000\n",
       "2023-09-26  0.000000  0.000000  0.000000\n",
       "\n",
       "[2675 rows x 3 columns]"
      ]
     },
     "execution_count": 12,
     "metadata": {},
     "output_type": "execute_result"
    }
   ],
   "source": [
    "PSE_data = pd.read_csv(\n",
    "    \"daily.csv\"\n",
    ")\n",
    "PSE_data['date_id'] = pd.to_datetime(PSE_data['date_id'])\n",
    "PSE_data = PSE_data.set_index(\"date_id\")\n",
    "df_filtered = PSE_data.drop(columns=[col for col in PSE_data.columns if not (col.startswith('PH_') and col.endswith('_P')) and col != 'date_id'])\n",
    "\n",
    "df_filtered = df_filtered.loc['2013-06-25':'2023-09-26']\n",
    "\n",
    "def has_high_null_percentage(column, null_threshold):\n",
    "    return column.isnull().mean() > null_threshold\n",
    "\n",
    "null_percentage_threshold = round(df_filtered.shape[0] * 0.85)\n",
    "columns_to_drop = []\n",
    "\n",
    "for col in df_filtered.columns:\n",
    "    if col == \"date_id\":  \n",
    "        continue\n",
    "    if has_high_null_percentage(df_filtered[col], null_percentage_threshold):\n",
    "        columns_to_drop.append(col)\n",
    "\n",
    "df_filtered = df_filtered.drop(columns=columns_to_drop)\n",
    "\n",
    "PSE_log_returns = df_filtered.copy()\n",
    "numeric_cols = PSE_log_returns.columns.difference([\"date_id\"])\n",
    "PSE_log_returns[numeric_cols] = PSE_log_returns[numeric_cols].replace(0, np.nan)\n",
    "PSE_log_returns[numeric_cols] = np.log(PSE_log_returns[numeric_cols] / PSE_log_returns[numeric_cols].shift(1))\n",
    "\n",
    "PSE_log_returns = PSE_log_returns.loc['2013-06-26':'2023-09-26']\n",
    "PSE_log_returns.columns = PSE_log_returns.columns.str.replace(r\"_P\", \"\").str.replace(r\"PH_\", \"\")\n",
    "\n",
    "# this was for testing\n",
    "least_null_cols = PSE_log_returns.isna().sum().nsmallest(3).index\n",
    "trial = PSE_log_returns[least_null_cols]\n",
    "trial"
   ]
  },
  {
   "cell_type": "code",
   "execution_count": 13,
   "id": "dfbfc23c-456c-4d2c-a869-9ca503a129db",
   "metadata": {
    "execution": {
     "iopub.execute_input": "2025-02-18T04:35:52.562103Z",
     "iopub.status.busy": "2025-02-18T04:35:52.561881Z",
     "iopub.status.idle": "2025-02-18T04:35:52.567799Z",
     "shell.execute_reply": "2025-02-18T04:35:52.566810Z",
     "shell.execute_reply.started": "2025-02-18T04:35:52.562084Z"
    }
   },
   "outputs": [],
   "source": [
    "trial_returns = trial.copy()\n",
    "PSE_log_returns = trial.to_numpy()"
   ]
  },
  {
   "cell_type": "code",
   "execution_count": 14,
   "id": "010512f3-df52-43ad-8410-86a8515a9c8c",
   "metadata": {
    "execution": {
     "iopub.execute_input": "2025-02-18T04:35:59.761601Z",
     "iopub.status.busy": "2025-02-18T04:35:59.760897Z",
     "iopub.status.idle": "2025-02-18T04:36:01.578611Z",
     "shell.execute_reply": "2025-02-18T04:36:01.577597Z",
     "shell.execute_reply.started": "2025-02-18T04:35:59.761543Z"
    }
   },
   "outputs": [
    {
     "name": "stderr",
     "output_type": "stream",
     "text": [
      "/tmp/ipykernel_16150/651759837.py:23: RuntimeWarning: invalid value encountered in divide\n",
      "  correlation = cov_matrix / outer_v\n"
     ]
    }
   ],
   "source": [
    "skips = len(trial_returns.columns)\n",
    "window = 110\n",
    "counter = 0\n",
    "\n",
    "for i in range(len(trial_returns.index)):\n",
    "    # this is to get the matrix\n",
    "    returns = PSE_log_returns[i:i+window]\n",
    "\n",
    "    # this is to get the covar matrix\n",
    "    covar_matrix = returns_to_covar(returns)\n",
    "    counter += 1\n",
    "    # print(f\"Covar matrix:\\n{covar_matrix}\")\n",
    "    \n",
    "    # this is to get the correl matrix\n",
    "    correl_matrix = covar_to_correl(covar_matrix)\n",
    "    # print(f\"Correl matrix:\\n{correl_matrix}\")\n",
    "    \n",
    "    # this is to get the distance matrix\n",
    "    distance_matrix = 1 - np.square(correl_matrix)\n",
    "    # print(f\"Distance matrix:\\n{distance_matrix}\")\n",
    "\n",
    "    matrices = [covar_matrix, correl_matrix, distance_matrix]\n",
    "    for matrix in matrices:\n",
    "        if check_symmetric(matrix) == False:\n",
    "            print(\"This matrix is not symmetrical.\")\n",
    "            print(counter)"
   ]
  },
  {
   "cell_type": "markdown",
   "id": "b66ea920-816e-4054-aaf1-5fbbce3f0fa8",
   "metadata": {},
   "source": [
    "## Gaussian distribution"
   ]
  },
  {
   "cell_type": "markdown",
   "id": "917121cd-fecb-4b4b-8ee2-2438a1a37874",
   "metadata": {
    "jp-MarkdownHeadingCollapsed": true
   },
   "source": [
    "### This is for a 102 x 3 array"
   ]
  },
  {
   "cell_type": "code",
   "execution_count": 6,
   "id": "7aaf4684-1cd9-4030-afe2-ab3822cfca84",
   "metadata": {
    "execution": {
     "iopub.execute_input": "2025-02-18T04:29:14.523011Z",
     "iopub.status.busy": "2025-02-18T04:29:14.522315Z",
     "iopub.status.idle": "2025-02-18T04:29:14.531562Z",
     "shell.execute_reply": "2025-02-18T04:29:14.530963Z",
     "shell.execute_reply.started": "2025-02-18T04:29:14.522983Z"
    },
    "scrolled": true
   },
   "outputs": [
    {
     "data": {
      "text/plain": [
       "array([[ 0.49671415, -0.1382643 ,  0.64768854],\n",
       "       [ 1.52302986, -0.23415337, -0.23413696],\n",
       "       [        nan,  0.76743473, -0.46947439],\n",
       "       [ 0.54256004,         nan, -0.46572975],\n",
       "       [ 0.24196227, -1.91328024, -1.72491783],\n",
       "       [-0.56228753, -1.01283112,  0.31424733],\n",
       "       [-0.90802408, -1.4123037 ,  1.46564877],\n",
       "       [-0.2257763 ,  0.0675282 , -1.42474819],\n",
       "       [-0.54438272,  0.11092259, -1.15099358],\n",
       "       [ 0.37569802, -0.60063869,         nan],\n",
       "       [-0.60170661,  1.85227818,         nan],\n",
       "       [-1.05771093,  0.82254491, -1.22084365],\n",
       "       [ 0.2088636 ,         nan, -1.32818605],\n",
       "       [ 0.19686124,  0.73846658,  0.17136828],\n",
       "       [        nan, -0.3011037 , -1.47852199],\n",
       "       [-0.71984421, -0.46063877,  1.05712223],\n",
       "       [ 0.34361829, -1.76304016,  0.32408397],\n",
       "       [-0.38508228, -0.676922  ,  0.61167629],\n",
       "       [ 1.03099952,  0.93128012,         nan],\n",
       "       [-0.30921238,         nan,  0.97554513],\n",
       "       [-0.47917424, -0.18565898, -1.10633497],\n",
       "       [-1.19620662,  0.81252582,  1.35624003],\n",
       "       [-0.07201012,  1.0035329 ,         nan],\n",
       "       [-0.64511975,  0.36139561,  1.53803657],\n",
       "       [        nan,  1.56464366, -2.6197451 ],\n",
       "       [ 0.8219025 ,  0.08704707,         nan],\n",
       "       [ 0.09176078, -1.98756891, -0.21967189],\n",
       "       [ 0.35711257,  1.47789404,         nan],\n",
       "       [-0.8084936 , -0.50175704,  0.91540212],\n",
       "       [ 0.32875111, -0.5297602 ,  0.51326743],\n",
       "       [ 0.09707755,  0.96864499, -0.70205309],\n",
       "       [-0.32766215, -0.39210815, -1.46351495],\n",
       "       [ 0.29612028,  0.26105527,         nan],\n",
       "       [-0.23458713,         nan, -0.42064532],\n",
       "       [-0.34271452, -0.80227727, -0.16128571],\n",
       "       [ 0.40405086,  1.8861859 ,  0.17457781],\n",
       "       [ 0.25755039,         nan, -1.91877122],\n",
       "       [-0.02651388,  0.06023021,  2.46324211],\n",
       "       [-0.19236096,  0.30154734, -0.03471177],\n",
       "       [-1.16867804,  1.14282281,  0.75193303],\n",
       "       [ 0.79103195, -0.90938745,  1.40279431],\n",
       "       [-1.40185106,  0.58685709,  2.19045563],\n",
       "       [-0.99053633, -0.56629773,         nan],\n",
       "       [-0.50347565, -1.55066343,  0.06856297],\n",
       "       [-1.06230371,  0.47359243, -0.91942423],\n",
       "       [ 1.54993441, -0.78325329, -0.32206152],\n",
       "       [ 0.81351722, -1.23086432,  0.22745993],\n",
       "       [ 1.30714275, -1.60748323,  0.18463386],\n",
       "       [ 0.25988279,         nan, -1.23695071],\n",
       "       [-1.32045661,         nan,  0.29698467],\n",
       "       [ 0.25049285,  0.34644821, -0.68002472],\n",
       "       [ 0.2322537 ,  0.29307247, -0.71435142],\n",
       "       [ 1.86577451,  0.47383292, -1.1913035 ],\n",
       "       [ 0.65655361, -0.97468167,  0.7870846 ],\n",
       "       [ 1.15859558, -0.82068232,         nan],\n",
       "       [ 0.41278093,  0.82206016,  1.89679298],\n",
       "       [        nan, -0.75373616, -0.88951443],\n",
       "       [        nan, -0.07710171,  0.34115197],\n",
       "       [ 0.2766908 ,  0.82718325,  0.01300189],\n",
       "       [ 1.45353408, -0.26465683,  2.72016917],\n",
       "       [ 0.62566735, -0.85715756, -1.0708925 ],\n",
       "       [ 0.48247242, -0.22346279,  0.71400049],\n",
       "       [ 0.47323762, -0.07282891, -0.84679372],\n",
       "       [-1.51484722,         nan,  0.85639879],\n",
       "       [ 0.21409374, -1.24573878,  0.17318093],\n",
       "       [ 0.38531738, -0.88385744,  0.15372511],\n",
       "       [ 0.05820872, -1.1429703 ,  0.35778736],\n",
       "       [        nan,  1.08305124,  1.05380205],\n",
       "       [-1.37766937,         nan,  0.51503527],\n",
       "       [ 0.51378595,         nan,  3.85273149],\n",
       "       [ 0.57089051,  1.13556564,  0.95400176],\n",
       "       [ 0.65139125, -0.31526924,  0.75896922],\n",
       "       [-0.77282521, -0.23681861, -0.48536355],\n",
       "       [ 0.08187414,  2.31465857, -1.86726519],\n",
       "       [        nan, -1.61271587, -0.47193187],\n",
       "       [ 1.0889506 ,  0.06428002, -1.07774478],\n",
       "       [-0.71530371,  0.67959775, -0.73036663],\n",
       "       [ 0.21645859,  0.04557184, -0.65160035],\n",
       "       [ 2.14394409,  0.63391902, -2.02514259],\n",
       "       [        nan, -0.66178646,  0.85243333],\n",
       "       [-0.79252074, -0.11473644,  0.50498728],\n",
       "       [ 0.86575519,         nan, -0.33450124],\n",
       "       [-0.47494531, -0.65332923,  1.76545424],\n",
       "       [ 0.40498171, -1.26088395,  0.91786195],\n",
       "       [ 2.1221562 ,  1.03246526, -1.51936997],\n",
       "       [-0.48423407,  1.26691115, -0.70766947],\n",
       "       [ 0.44381943,         nan, -0.92693047],\n",
       "       [-0.05952536, -3.24126734, -1.02438764],\n",
       "       [-0.25256815, -1.24778318,  1.6324113 ],\n",
       "       [-1.43014138, -0.44004449,  0.13074058],\n",
       "       [ 1.44127329, -1.43586215,  1.16316375],\n",
       "       [ 0.01023306, -0.98150865,  0.46210347],\n",
       "       [ 0.1990597 , -0.60021688,  0.06980208],\n",
       "       [-0.3853136 ,  0.11351735,  0.66213067],\n",
       "       [ 1.58601682,         nan,  2.13303337],\n",
       "       [        nan, -0.1517851 ,  0.58831721],\n",
       "       [ 0.28099187, -0.62269952,         nan],\n",
       "       [        nan, -0.58936476,  0.8496021 ],\n",
       "       [ 0.35701549, -0.6929096 ,  0.89959988],\n",
       "       [ 0.30729952,  0.81286212,         nan],\n",
       "       [        nan, -0.56018104,  0.74729361],\n",
       "       [ 0.61037027, -0.02090159,  0.11732738]])"
      ]
     },
     "execution_count": 6,
     "metadata": {},
     "output_type": "execute_result"
    }
   ],
   "source": [
    "np.random.seed(42)\n",
    "data = np.random.randn(102, 3)\n",
    "\n",
    "np.random.seed(42)\n",
    "nan_mask = np.random.rand(102, 3) < 0.1  # 10% missing values\n",
    "data[nan_mask] = np.nan\n",
    "data"
   ]
  },
  {
   "cell_type": "code",
   "execution_count": 7,
   "id": "d1bb9b9d-4964-48c2-91fd-3579e675b616",
   "metadata": {
    "execution": {
     "iopub.execute_input": "2025-02-18T04:29:14.532383Z",
     "iopub.status.busy": "2025-02-18T04:29:14.532177Z",
     "iopub.status.idle": "2025-02-18T04:29:14.600708Z",
     "shell.execute_reply": "2025-02-18T04:29:14.599787Z",
     "shell.execute_reply.started": "2025-02-18T04:29:14.532365Z"
    },
    "scrolled": true
   },
   "outputs": [
    {
     "name": "stderr",
     "output_type": "stream",
     "text": [
      "/tmp/ipykernel_16150/651759837.py:23: RuntimeWarning: invalid value encountered in divide\n",
      "  correlation = cov_matrix / outer_v\n"
     ]
    }
   ],
   "source": [
    "skips = 3\n",
    "window = 10\n",
    "counter = 0\n",
    "\n",
    "for i in range(len(data)):\n",
    "    # this is to get the matrix\n",
    "    returns = data[i:i+window]\n",
    "\n",
    "    # this is to get the covar matrix\n",
    "    covar_matrix = returns_to_covar(returns)\n",
    "    counter += 1\n",
    "    # print(f\"Covar matrix:\\n{covar_matrix}\")\n",
    "    \n",
    "    # this is to get the correl matrix\n",
    "    correl_matrix = covar_to_correl(covar_matrix)\n",
    "    # print(f\"Correl matrix:\\n{correl_matrix}\")\n",
    "    \n",
    "    # this is to get the distance matrix\n",
    "    distance_matrix = 1 - np.square(correl_matrix)\n",
    "    # print(f\"Distance matrix:\\n{distance_matrix}\")\n",
    "    \n",
    "    matrices = [covar_matrix, correl_matrix, distance_matrix]\n",
    "    for matrix in matrices:\n",
    "        if check_symmetric(matrix) == False:\n",
    "            print(\"This matrix is not symmetrical.\")\n",
    "            print(counter)"
   ]
  },
  {
   "cell_type": "markdown",
   "id": "d9a0d9c1-68a8-4442-a9b6-a4df16df21b3",
   "metadata": {},
   "source": [
    "Note: I realized that the matrices will only not be symmetrical if the window size is not a multiple of the rows. In example, if you generate a 100-row dataset, but only have a window size of 3, then it will lead to a matrix that is not symmetrical because 100 is not divisible by 3. "
   ]
  },
  {
   "cell_type": "markdown",
   "id": "2bc172b1-5cc9-4308-8494-5138921333ef",
   "metadata": {
    "execution": {
     "iopub.execute_input": "2025-02-17T13:55:21.155431Z",
     "iopub.status.busy": "2025-02-17T13:55:21.154699Z",
     "iopub.status.idle": "2025-02-17T13:55:21.162272Z",
     "shell.execute_reply": "2025-02-17T13:55:21.160980Z",
     "shell.execute_reply.started": "2025-02-17T13:55:21.155370Z"
    }
   },
   "source": [
    "### This is for a 2609 x 300 numpy array"
   ]
  },
  {
   "cell_type": "code",
   "execution_count": 17,
   "id": "e65ae607-94a2-4289-83eb-42269fd676d9",
   "metadata": {
    "execution": {
     "iopub.execute_input": "2025-02-18T04:37:10.138162Z",
     "iopub.status.busy": "2025-02-18T04:37:10.137518Z",
     "iopub.status.idle": "2025-02-18T04:37:10.191127Z",
     "shell.execute_reply": "2025-02-18T04:37:10.190314Z",
     "shell.execute_reply.started": "2025-02-18T04:37:10.138110Z"
    }
   },
   "outputs": [
    {
     "data": {
      "text/plain": [
       "array([[ 0.49671415, -0.1382643 ,  0.64768854, ...,  0.30729952,\n",
       "         0.81286212,         nan],\n",
       "       [        nan, -0.56018104,  0.74729361, ..., -0.97876372,\n",
       "        -0.44429326,         nan],\n",
       "       [ 0.75698862, -0.92216532,  0.86960592, ...,  0.14671369,\n",
       "                nan,         nan],\n",
       "       ...,\n",
       "       [ 0.17847475,  0.23949974,  0.37276212, ...,  0.59070092,\n",
       "         1.09501415, -0.50521937],\n",
       "       [ 1.14336084,  0.77809928, -1.02127259, ..., -0.01363353,\n",
       "        -0.230399  , -0.84795407],\n",
       "       [-1.42741373,  1.57230576,  1.67892859, ...,  0.83199905,\n",
       "                nan,  0.00707005]])"
      ]
     },
     "execution_count": 17,
     "metadata": {},
     "output_type": "execute_result"
    }
   ],
   "source": [
    "np.random.seed(42)\n",
    "data = np.random.randn(2609, 300)\n",
    "\n",
    "np.random.seed(42)\n",
    "nan_mask = np.random.rand(2609, 300) < 0.1  # 10% missing values\n",
    "data[nan_mask] = np.nan\n",
    "data"
   ]
  },
  {
   "cell_type": "code",
   "execution_count": 18,
   "id": "f3ed0767-1e28-4898-90f2-86ea57235b4a",
   "metadata": {
    "collapsed": true,
    "execution": {
     "iopub.execute_input": "2025-02-18T04:37:11.856576Z",
     "iopub.status.busy": "2025-02-18T04:37:11.855380Z",
     "iopub.status.idle": "2025-02-18T04:40:52.327802Z",
     "shell.execute_reply": "2025-02-18T04:40:52.326843Z",
     "shell.execute_reply.started": "2025-02-18T04:37:11.856516Z"
    },
    "jupyter": {
     "outputs_hidden": true,
     "source_hidden": true
    },
    "scrolled": true
   },
   "outputs": [
    {
     "ename": "KeyboardInterrupt",
     "evalue": "",
     "output_type": "error",
     "traceback": [
      "\u001b[0;31m---------------------------------------------------------------------------\u001b[0m",
      "\u001b[0;31mKeyboardInterrupt\u001b[0m                         Traceback (most recent call last)",
      "File \u001b[0;32m<timed exec>:10\u001b[0m\n",
      "Cell \u001b[0;32mIn[2], line 10\u001b[0m, in \u001b[0;36mreturns_to_covar\u001b[0;34m(returns)\u001b[0m\n\u001b[1;32m      8\u001b[0m     pi \u001b[38;5;241m=\u001b[39m returns[:, i][row_mask]\n\u001b[1;32m      9\u001b[0m     pj \u001b[38;5;241m=\u001b[39m returns[:, j][row_mask]\n\u001b[0;32m---> 10\u001b[0m     test[i, j] \u001b[38;5;241m=\u001b[39m np\u001b[38;5;241m.\u001b[39msum((pi \u001b[38;5;241m-\u001b[39m \u001b[43mnp\u001b[49m\u001b[38;5;241;43m.\u001b[39;49m\u001b[43mmean\u001b[49m\u001b[43m(\u001b[49m\u001b[43mpi\u001b[49m\u001b[43m)\u001b[49m)\u001b[38;5;241m*\u001b[39m(pj \u001b[38;5;241m-\u001b[39m np\u001b[38;5;241m.\u001b[39mmean(pj)))\u001b[38;5;241m/\u001b[39m\u001b[38;5;28mlen\u001b[39m(pi)\n\u001b[1;32m     11\u001b[0m     \u001b[38;5;66;03m#print(i, j)\u001b[39;00m\n\u001b[1;32m     13\u001b[0m test \u001b[38;5;241m=\u001b[39m np\u001b[38;5;241m.\u001b[39mwhere(test,test,test\u001b[38;5;241m.\u001b[39mT)\n",
      "File \u001b[0;32m/opt/conda/lib/python3.12/site-packages/numpy/core/fromnumeric.py:3504\u001b[0m, in \u001b[0;36mmean\u001b[0;34m(a, axis, dtype, out, keepdims, where)\u001b[0m\n\u001b[1;32m   3501\u001b[0m     \u001b[38;5;28;01melse\u001b[39;00m:\n\u001b[1;32m   3502\u001b[0m         \u001b[38;5;28;01mreturn\u001b[39;00m mean(axis\u001b[38;5;241m=\u001b[39maxis, dtype\u001b[38;5;241m=\u001b[39mdtype, out\u001b[38;5;241m=\u001b[39mout, \u001b[38;5;241m*\u001b[39m\u001b[38;5;241m*\u001b[39mkwargs)\n\u001b[0;32m-> 3504\u001b[0m \u001b[38;5;28;01mreturn\u001b[39;00m \u001b[43m_methods\u001b[49m\u001b[38;5;241;43m.\u001b[39;49m\u001b[43m_mean\u001b[49m\u001b[43m(\u001b[49m\u001b[43ma\u001b[49m\u001b[43m,\u001b[49m\u001b[43m \u001b[49m\u001b[43maxis\u001b[49m\u001b[38;5;241;43m=\u001b[39;49m\u001b[43maxis\u001b[49m\u001b[43m,\u001b[49m\u001b[43m \u001b[49m\u001b[43mdtype\u001b[49m\u001b[38;5;241;43m=\u001b[39;49m\u001b[43mdtype\u001b[49m\u001b[43m,\u001b[49m\n\u001b[1;32m   3505\u001b[0m \u001b[43m                      \u001b[49m\u001b[43mout\u001b[49m\u001b[38;5;241;43m=\u001b[39;49m\u001b[43mout\u001b[49m\u001b[43m,\u001b[49m\u001b[43m \u001b[49m\u001b[38;5;241;43m*\u001b[39;49m\u001b[38;5;241;43m*\u001b[39;49m\u001b[43mkwargs\u001b[49m\u001b[43m)\u001b[49m\n",
      "File \u001b[0;32m/opt/conda/lib/python3.12/site-packages/numpy/core/_methods.py:106\u001b[0m, in \u001b[0;36m_mean\u001b[0;34m(a, axis, dtype, out, keepdims, where)\u001b[0m\n\u001b[1;32m    102\u001b[0m arr \u001b[38;5;241m=\u001b[39m asanyarray(a)\n\u001b[1;32m    104\u001b[0m is_float16_result \u001b[38;5;241m=\u001b[39m \u001b[38;5;28;01mFalse\u001b[39;00m\n\u001b[0;32m--> 106\u001b[0m rcount \u001b[38;5;241m=\u001b[39m \u001b[43m_count_reduce_items\u001b[49m\u001b[43m(\u001b[49m\u001b[43marr\u001b[49m\u001b[43m,\u001b[49m\u001b[43m \u001b[49m\u001b[43maxis\u001b[49m\u001b[43m,\u001b[49m\u001b[43m \u001b[49m\u001b[43mkeepdims\u001b[49m\u001b[38;5;241;43m=\u001b[39;49m\u001b[43mkeepdims\u001b[49m\u001b[43m,\u001b[49m\u001b[43m \u001b[49m\u001b[43mwhere\u001b[49m\u001b[38;5;241;43m=\u001b[39;49m\u001b[43mwhere\u001b[49m\u001b[43m)\u001b[49m\n\u001b[1;32m    107\u001b[0m \u001b[38;5;28;01mif\u001b[39;00m rcount \u001b[38;5;241m==\u001b[39m \u001b[38;5;241m0\u001b[39m \u001b[38;5;28;01mif\u001b[39;00m where \u001b[38;5;129;01mis\u001b[39;00m \u001b[38;5;28;01mTrue\u001b[39;00m \u001b[38;5;28;01melse\u001b[39;00m umr_any(rcount \u001b[38;5;241m==\u001b[39m \u001b[38;5;241m0\u001b[39m, axis\u001b[38;5;241m=\u001b[39m\u001b[38;5;28;01mNone\u001b[39;00m):\n\u001b[1;32m    108\u001b[0m     warnings\u001b[38;5;241m.\u001b[39mwarn(\u001b[38;5;124m\"\u001b[39m\u001b[38;5;124mMean of empty slice.\u001b[39m\u001b[38;5;124m\"\u001b[39m, \u001b[38;5;167;01mRuntimeWarning\u001b[39;00m, stacklevel\u001b[38;5;241m=\u001b[39m\u001b[38;5;241m2\u001b[39m)\n",
      "File \u001b[0;32m/opt/conda/lib/python3.12/site-packages/numpy/core/_methods.py:78\u001b[0m, in \u001b[0;36m_count_reduce_items\u001b[0;34m(arr, axis, keepdims, where)\u001b[0m\n\u001b[1;32m     76\u001b[0m     \u001b[38;5;28;01mfor\u001b[39;00m ax \u001b[38;5;129;01min\u001b[39;00m axis:\n\u001b[1;32m     77\u001b[0m         items \u001b[38;5;241m*\u001b[39m\u001b[38;5;241m=\u001b[39m arr\u001b[38;5;241m.\u001b[39mshape[mu\u001b[38;5;241m.\u001b[39mnormalize_axis_index(ax, arr\u001b[38;5;241m.\u001b[39mndim)]\n\u001b[0;32m---> 78\u001b[0m     items \u001b[38;5;241m=\u001b[39m \u001b[43mnt\u001b[49m\u001b[38;5;241;43m.\u001b[39;49m\u001b[43mintp\u001b[49m\u001b[43m(\u001b[49m\u001b[43mitems\u001b[49m\u001b[43m)\u001b[49m\n\u001b[1;32m     79\u001b[0m \u001b[38;5;28;01melse\u001b[39;00m:\n\u001b[1;32m     80\u001b[0m     \u001b[38;5;66;03m# TODO: Optimize case when `where` is broadcast along a non-reduction\u001b[39;00m\n\u001b[1;32m     81\u001b[0m     \u001b[38;5;66;03m# axis and full sum is more excessive than needed.\u001b[39;00m\n\u001b[1;32m     82\u001b[0m \n\u001b[1;32m     83\u001b[0m     \u001b[38;5;66;03m# guarded to protect circular imports\u001b[39;00m\n\u001b[1;32m     84\u001b[0m     \u001b[38;5;28;01mfrom\u001b[39;00m \u001b[38;5;21;01mnumpy\u001b[39;00m\u001b[38;5;21;01m.\u001b[39;00m\u001b[38;5;21;01mlib\u001b[39;00m\u001b[38;5;21;01m.\u001b[39;00m\u001b[38;5;21;01mstride_tricks\u001b[39;00m \u001b[38;5;28;01mimport\u001b[39;00m broadcast_to\n",
      "\u001b[0;31mKeyboardInterrupt\u001b[0m: "
     ]
    }
   ],
   "source": [
    "skips = 300 # should be the number of columns\n",
    "window = 110\n",
    "counter = 0\n",
    "\n",
    "for i in range(len(data)):\n",
    "    # this is to get the matrix\n",
    "    returns = data[i:i+window]\n",
    "\n",
    "    # this is to get the covar matrix\n",
    "    covar_matrix = returns_to_covar(returns)\n",
    "    counter += 1\n",
    "    # print(f\"Covar matrix:\\n{covar_matrix}\")\n",
    "    \n",
    "    # this is to get the correl matrix\n",
    "    correl_matrix = covar_to_correl(covar_matrix)\n",
    "    # print(f\"Correl matrix:\\n{correl_matrix}\")\n",
    "    \n",
    "    # this is to get the distance matrix\n",
    "    distance_matrix = 1 - np.square(correl_matrix)\n",
    "    # print(f\"Distance matrix:\\n{distance_matrix}\")\n",
    "    \n",
    "    matrices = [covar_matrix, correl_matrix, distance_matrix]\n",
    "    for matrix in matrices:\n",
    "        if check_symmetric(matrix) == False:\n",
    "            print(f\"{matrix} is not symmetrical.\")\n",
    "            print(counter)"
   ]
  },
  {
   "cell_type": "markdown",
   "id": "edd072b8-006f-480e-a3fb-ff7e0008e372",
   "metadata": {},
   "source": [
    "## all stocks in the PSE"
   ]
  },
  {
   "cell_type": "code",
   "execution_count": 20,
   "id": "4c009056-a07a-4f94-9b61-c729c8826f49",
   "metadata": {
    "execution": {
     "iopub.execute_input": "2025-02-18T04:44:04.111334Z",
     "iopub.status.busy": "2025-02-18T04:44:04.110661Z",
     "iopub.status.idle": "2025-02-18T04:44:06.483215Z",
     "shell.execute_reply": "2025-02-18T04:44:06.481687Z",
     "shell.execute_reply.started": "2025-02-18T04:44:04.111263Z"
    },
    "scrolled": true
   },
   "outputs": [],
   "source": [
    "PSE_data = pd.read_csv(\n",
    "    \"daily.csv\"\n",
    ")\n",
    "PSE_data['date_id'] = pd.to_datetime(PSE_data['date_id'])\n",
    "PSE_data = PSE_data.set_index(\"date_id\")\n",
    "df_filtered = PSE_data.drop(columns=[col for col in PSE_data.columns if not (col.startswith('PH_') and col.endswith('_P')) and col != 'date_id'])\n",
    "\n",
    "df_filtered = df_filtered.loc['2013-06-25':'2023-09-26']\n",
    "\n",
    "def has_high_null_percentage(column, null_threshold):\n",
    "    return column.isnull().mean() > null_threshold\n",
    "\n",
    "null_percentage_threshold = round(df_filtered.shape[0] * 0.85)\n",
    "columns_to_drop = []\n",
    "\n",
    "for col in df_filtered.columns:\n",
    "    if col == \"date_id\":  \n",
    "        continue\n",
    "    if has_high_null_percentage(df_filtered[col], null_percentage_threshold):\n",
    "        columns_to_drop.append(col)\n",
    "\n",
    "df_filtered = df_filtered.drop(columns=columns_to_drop)\n",
    "\n",
    "PSE_log_returns = df_filtered.copy()\n",
    "numeric_cols = PSE_log_returns.columns.difference([\"date_id\"])\n",
    "PSE_log_returns[numeric_cols] = PSE_log_returns[numeric_cols].replace(0, np.nan)\n",
    "PSE_log_returns[numeric_cols] = np.log(PSE_log_returns[numeric_cols] / PSE_log_returns[numeric_cols].shift(1))\n",
    "\n",
    "PSE_log_returns = PSE_log_returns.loc['2013-06-26':'2023-09-26']\n",
    "PSE_log_returns.columns = PSE_log_returns.columns.str.replace(r\"_P\", \"\").str.replace(r\"PH_\", \"\")\n",
    "\n",
    "returns_df = PSE_log_returns.copy()\n",
    "PSE_log_returns = PSE_log_returns.to_numpy()"
   ]
  },
  {
   "cell_type": "code",
   "execution_count": 32,
   "id": "ebe0f8db-2769-4674-a838-5c2fbc51391d",
   "metadata": {
    "execution": {
     "iopub.execute_input": "2025-02-18T04:59:14.723486Z",
     "iopub.status.busy": "2025-02-18T04:59:14.722767Z",
     "iopub.status.idle": "2025-02-18T06:02:59.684791Z",
     "shell.execute_reply": "2025-02-18T06:02:59.683785Z",
     "shell.execute_reply.started": "2025-02-18T04:59:14.723428Z"
    },
    "scrolled": true
   },
   "outputs": [
    {
     "name": "stderr",
     "output_type": "stream",
     "text": [
      "/tmp/ipykernel_16150/2711071199.py:10: RuntimeWarning: invalid value encountered in scalar divide\n",
      "  test[i, j] = np.sum((pi - np.mean(pi))*(pj - np.mean(pj)))/len(pi)\n",
      "/tmp/ipykernel_16150/2711071199.py:23: RuntimeWarning: invalid value encountered in divide\n",
      "  correlation = cov_matrix / outer_v\n"
     ]
    }
   ],
   "source": [
    "skips = len(returns_df.columns)\n",
    "window = 110\n",
    "counter = 0\n",
    "\n",
    "for i in range(len(returns_df.index)):\n",
    "    # this is to get the matrix\n",
    "    returns = PSE_log_returns[i:i+window]\n",
    "\n",
    "    # this is to get the covar matrix\n",
    "    covar_matrix = returns_to_covar(returns)\n",
    "    counter += 1\n",
    "    # print(f\"Covar matrix:\\n{covar_matrix}\")\n",
    "    \n",
    "    # this is to get the correl matrix\n",
    "    correl_matrix = covar_to_correl(covar_matrix)\n",
    "    # print(f\"Correl matrix:\\n{correl_matrix}\")\n",
    "    \n",
    "    # this is to get the distance matrix\n",
    "    distance_matrix = 1 - np.square(correl_matrix)\n",
    "    # print(f\"Distance matrix:\\n{distance_matrix}\")\n",
    "    \n",
    "    matrices = [covar_matrix, correl_matrix, distance_matrix]\n",
    "    for matrix in matrices:\n",
    "        if check_symmetric(matrix) == True:\n",
    "            print(\"This matrix is symmetrical.\")\n",
    "            print(counter)\n",
    "        \n",
    "        # if check_symmetric(matrix) == False:\n",
    "        #     print(\"This matrix is not symmetrical.\")\n",
    "        # print(counter)"
   ]
  },
  {
   "cell_type": "code",
   "execution_count": null,
   "id": "aa12612f-be1d-45b4-8b25-37264b7e1f57",
   "metadata": {},
   "outputs": [],
   "source": []
  }
 ],
 "metadata": {
  "kernelspec": {
   "display_name": "Python [conda env:base] *",
   "language": "python",
   "name": "conda-base-py"
  },
  "language_info": {
   "codemirror_mode": {
    "name": "ipython",
    "version": 3
   },
   "file_extension": ".py",
   "mimetype": "text/x-python",
   "name": "python",
   "nbconvert_exporter": "python",
   "pygments_lexer": "ipython3",
   "version": "3.12.8"
  }
 },
 "nbformat": 4,
 "nbformat_minor": 5
}
