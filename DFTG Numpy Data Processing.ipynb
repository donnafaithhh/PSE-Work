{
 "cells": [
  {
   "cell_type": "markdown",
   "id": "7f5ff653-721a-43a7-948f-e38f6d94794e",
   "metadata": {},
   "source": [
    "# Goal: Create the covariance, correlation, and distance matrix"
   ]
  },
  {
   "cell_type": "markdown",
   "id": "3a511831-28a6-4be4-abed-c93334a9d73a",
   "metadata": {},
   "source": [
    "This cell is for importing necessary modules."
   ]
  },
  {
   "cell_type": "code",
   "execution_count": 1,
   "id": "69340e05-ce49-46ea-a975-1c2ae2bbe3f6",
   "metadata": {
    "execution": {
     "iopub.execute_input": "2025-02-20T02:57:39.003365Z",
     "iopub.status.busy": "2025-02-20T02:57:39.003127Z",
     "iopub.status.idle": "2025-02-20T02:57:39.951811Z",
     "shell.execute_reply": "2025-02-20T02:57:39.950715Z",
     "shell.execute_reply.started": "2025-02-20T02:57:39.003343Z"
    }
   },
   "outputs": [],
   "source": [
    "import pandas as pd\n",
    "import numpy as np\n",
    "import matplotlib.pyplot as plt\n",
    "import heapq # for minimum spanning tree\n",
    "import pickle # for saving the data\n",
    "import os\n",
    "import itertools"
   ]
  },
  {
   "cell_type": "markdown",
   "id": "2bcb7972-cfd7-439b-95e9-2b0502acaa80",
   "metadata": {},
   "source": [
    "This cell is for reading the data file."
   ]
  },
  {
   "cell_type": "code",
   "execution_count": 2,
   "id": "f694093a-ec60-4363-8038-424961b55786",
   "metadata": {
    "execution": {
     "iopub.execute_input": "2025-02-20T02:57:39.952938Z",
     "iopub.status.busy": "2025-02-20T02:57:39.952610Z",
     "iopub.status.idle": "2025-02-20T02:57:42.298507Z",
     "shell.execute_reply": "2025-02-20T02:57:42.296915Z",
     "shell.execute_reply.started": "2025-02-20T02:57:39.952909Z"
    }
   },
   "outputs": [],
   "source": [
    "PSE_data = pd.read_csv(\n",
    "    \"daily.csv\"\n",
    ")\n",
    "PSE_data['date_id'] = pd.to_datetime(PSE_data['date_id'])\n",
    "PSE_data = PSE_data.set_index(\"date_id\")\n",
    "df_filtered = PSE_data.drop(columns=[col for col in PSE_data.columns if not (col.startswith('PH_') and col.endswith('_P')) and col != 'date_id'])"
   ]
  },
  {
   "cell_type": "markdown",
   "id": "e66ca06b-fc14-4ea9-b13c-798b3c36494a",
   "metadata": {},
   "source": [
    "This code is for removing the other rows that are not within the last 10 years of the data. I also used the date June 25, 2013 as the start date so that:\n",
    "- the window size will not cut the amount of days\n",
    "- when I calculate log returns, I will have exactly 10 years worth of data. "
   ]
  },
  {
   "cell_type": "code",
   "execution_count": 3,
   "id": "6431be4b-fd48-4527-98d4-5860c8bdf46a",
   "metadata": {
    "execution": {
     "iopub.execute_input": "2025-02-20T02:57:42.300103Z",
     "iopub.status.busy": "2025-02-20T02:57:42.299863Z",
     "iopub.status.idle": "2025-02-20T02:57:42.306857Z",
     "shell.execute_reply": "2025-02-20T02:57:42.306053Z",
     "shell.execute_reply.started": "2025-02-20T02:57:42.300081Z"
    },
    "scrolled": true
   },
   "outputs": [],
   "source": [
    "df_filtered = df_filtered.loc['2013-06-25':'2023-09-26']"
   ]
  },
  {
   "cell_type": "markdown",
   "id": "71f947ea-30ff-41bc-a00a-466b0b69b8c1",
   "metadata": {},
   "source": [
    "## Returns from raw prices\n",
    "This block is for cleaning the data and removing columns with too many null values."
   ]
  },
  {
   "cell_type": "code",
   "execution_count": 4,
   "id": "591dccc6-023b-4d83-bda2-334676c87a34",
   "metadata": {
    "execution": {
     "iopub.execute_input": "2025-02-20T02:57:42.307548Z",
     "iopub.status.busy": "2025-02-20T02:57:42.307358Z",
     "iopub.status.idle": "2025-02-20T02:57:42.313889Z",
     "shell.execute_reply": "2025-02-20T02:57:42.313105Z",
     "shell.execute_reply.started": "2025-02-20T02:57:42.307531Z"
    },
    "jupyter": {
     "source_hidden": true
    }
   },
   "outputs": [],
   "source": [
    "# def has_high_null_percentage(column, null_threshold):\n",
    "#     return column.isnull().mean() > null_threshold\n",
    "\n",
    "# # def has_consecutive_constant_values(column, threshold):\n",
    "# #     constant_streak = column.groupby((column != column.shift()).cumsum()).transform('size')\n",
    "# #     return constant_streak.max() > threshold\n",
    "\n",
    "# # def has_end_constant_values(column, end_threshold):\n",
    "# #     end_section = column.iloc[-int(len(column) * 0.05):]\n",
    "# #     return end_section.nunique() == 1\n",
    "\n",
    "# # def has_few_variations(column, variation_threshold):\n",
    "# #     return column.nunique() < variation_threshold\n",
    "\n",
    "# null_percentage_threshold = round(df_filtered.shape[0] * 0.85)\n",
    "# # consecutive_constant_threshold = int(len(df_filtered) * 0.35) \n",
    "# # end_constant_threshold = 0.01\n",
    "# # variation_threshold = 50\n",
    "\n",
    "# columns_to_drop = []\n",
    "\n",
    "# for col in df_filtered.columns:\n",
    "#     if col == \"date_id\":  \n",
    "#         continue\n",
    "    \n",
    "#     if (\n",
    "#         has_high_null_percentage(df_filtered[col], null_percentage_threshold) # or\n",
    "#         # has_consecutive_constant_values(df_filtered[col], consecutive_constant_threshold) or\n",
    "#         # has_end_constant_values(df_filtered[col], end_constant_threshold) or\n",
    "#         # has_few_variations(df_filtered[col], variation_threshold)\n",
    "#     ):\n",
    "#         columns_to_drop.append(col)\n",
    "\n",
    "# df_filtered = df_filtered.drop(columns=columns_to_drop)"
   ]
  },
  {
   "cell_type": "code",
   "execution_count": 5,
   "id": "268d0f54-8a40-4243-8b90-3e51235268f0",
   "metadata": {
    "execution": {
     "iopub.execute_input": "2025-02-20T02:57:42.314555Z",
     "iopub.status.busy": "2025-02-20T02:57:42.314366Z",
     "iopub.status.idle": "2025-02-20T02:57:42.354456Z",
     "shell.execute_reply": "2025-02-20T02:57:42.353593Z",
     "shell.execute_reply.started": "2025-02-20T02:57:42.314537Z"
    }
   },
   "outputs": [],
   "source": [
    "def has_high_null_percentage(column, null_threshold):\n",
    "    return column.isnull().mean() > null_threshold\n",
    "\n",
    "null_percentage_threshold = round(df_filtered.shape[0] * 0.85)\n",
    "columns_to_drop = []\n",
    "\n",
    "for col in df_filtered.columns:\n",
    "    if col == \"date_id\":  \n",
    "        continue\n",
    "    if has_high_null_percentage(df_filtered[col], null_percentage_threshold):\n",
    "        columns_to_drop.append(col)\n",
    "\n",
    "df_filtered = df_filtered.drop(columns=columns_to_drop)"
   ]
  },
  {
   "cell_type": "code",
   "execution_count": 6,
   "id": "90f48e62-977f-41ca-a049-93e73789e64a",
   "metadata": {
    "execution": {
     "iopub.execute_input": "2025-02-20T02:57:42.356536Z",
     "iopub.status.busy": "2025-02-20T02:57:42.356322Z",
     "iopub.status.idle": "2025-02-20T02:57:42.393924Z",
     "shell.execute_reply": "2025-02-20T02:57:42.393145Z",
     "shell.execute_reply.started": "2025-02-20T02:57:42.356517Z"
    },
    "scrolled": true
   },
   "outputs": [
    {
     "data": {
      "text/html": [
       "<div>\n",
       "<style scoped>\n",
       "    .dataframe tbody tr th:only-of-type {\n",
       "        vertical-align: middle;\n",
       "    }\n",
       "\n",
       "    .dataframe tbody tr th {\n",
       "        vertical-align: top;\n",
       "    }\n",
       "\n",
       "    .dataframe thead th {\n",
       "        text-align: right;\n",
       "    }\n",
       "</style>\n",
       "<table border=\"1\" class=\"dataframe\">\n",
       "  <thead>\n",
       "    <tr style=\"text-align: right;\">\n",
       "      <th></th>\n",
       "      <th>PH_PIP_P</th>\n",
       "      <th>PH_ASA_P</th>\n",
       "      <th>PH_ABS_P</th>\n",
       "      <th>PH_AGN_P</th>\n",
       "      <th>PH_APC_P</th>\n",
       "      <th>PH_CHP_P</th>\n",
       "      <th>PH_CEU_P</th>\n",
       "      <th>PH_CIR_P</th>\n",
       "      <th>PH_CAA_P</th>\n",
       "      <th>PH_EEQ_P</th>\n",
       "      <th>...</th>\n",
       "      <th>PH_MJC_P</th>\n",
       "      <th>PH_PCK_P</th>\n",
       "      <th>PH_MRP_P</th>\n",
       "      <th>PH_LOT_P</th>\n",
       "      <th>PH_BAG_P</th>\n",
       "      <th>PH_H2O_P</th>\n",
       "      <th>PH_PRC_P</th>\n",
       "      <th>PH_SSN_P</th>\n",
       "      <th>PH_SIN_P</th>\n",
       "      <th>PH_SHK_P</th>\n",
       "    </tr>\n",
       "    <tr>\n",
       "      <th>date_id</th>\n",
       "      <th></th>\n",
       "      <th></th>\n",
       "      <th></th>\n",
       "      <th></th>\n",
       "      <th></th>\n",
       "      <th></th>\n",
       "      <th></th>\n",
       "      <th></th>\n",
       "      <th></th>\n",
       "      <th></th>\n",
       "      <th></th>\n",
       "      <th></th>\n",
       "      <th></th>\n",
       "      <th></th>\n",
       "      <th></th>\n",
       "      <th></th>\n",
       "      <th></th>\n",
       "      <th></th>\n",
       "      <th></th>\n",
       "      <th></th>\n",
       "      <th></th>\n",
       "    </tr>\n",
       "  </thead>\n",
       "  <tbody>\n",
       "    <tr>\n",
       "      <th>2013-06-25</th>\n",
       "      <td>NaN</td>\n",
       "      <td>6.0</td>\n",
       "      <td>37.0</td>\n",
       "      <td>5.0</td>\n",
       "      <td>1.0</td>\n",
       "      <td>NaN</td>\n",
       "      <td>12.0</td>\n",
       "      <td>13.0</td>\n",
       "      <td>46.0</td>\n",
       "      <td>12.0</td>\n",
       "      <td>...</td>\n",
       "      <td>1.0</td>\n",
       "      <td>6.0</td>\n",
       "      <td>8.0</td>\n",
       "      <td>5.0</td>\n",
       "      <td>11.0</td>\n",
       "      <td>7.0</td>\n",
       "      <td>9.0</td>\n",
       "      <td>15.0</td>\n",
       "      <td>0.0</td>\n",
       "      <td>NaN</td>\n",
       "    </tr>\n",
       "    <tr>\n",
       "      <th>2013-06-26</th>\n",
       "      <td>NaN</td>\n",
       "      <td>7.0</td>\n",
       "      <td>38.0</td>\n",
       "      <td>6.0</td>\n",
       "      <td>1.0</td>\n",
       "      <td>NaN</td>\n",
       "      <td>12.0</td>\n",
       "      <td>13.0</td>\n",
       "      <td>47.0</td>\n",
       "      <td>13.0</td>\n",
       "      <td>...</td>\n",
       "      <td>1.0</td>\n",
       "      <td>6.0</td>\n",
       "      <td>8.0</td>\n",
       "      <td>5.0</td>\n",
       "      <td>11.0</td>\n",
       "      <td>6.0</td>\n",
       "      <td>9.0</td>\n",
       "      <td>15.0</td>\n",
       "      <td>0.0</td>\n",
       "      <td>NaN</td>\n",
       "    </tr>\n",
       "    <tr>\n",
       "      <th>2013-06-27</th>\n",
       "      <td>NaN</td>\n",
       "      <td>7.0</td>\n",
       "      <td>39.0</td>\n",
       "      <td>6.0</td>\n",
       "      <td>1.0</td>\n",
       "      <td>NaN</td>\n",
       "      <td>12.0</td>\n",
       "      <td>12.0</td>\n",
       "      <td>49.0</td>\n",
       "      <td>13.0</td>\n",
       "      <td>...</td>\n",
       "      <td>1.0</td>\n",
       "      <td>6.0</td>\n",
       "      <td>8.0</td>\n",
       "      <td>5.0</td>\n",
       "      <td>11.0</td>\n",
       "      <td>7.0</td>\n",
       "      <td>10.0</td>\n",
       "      <td>14.0</td>\n",
       "      <td>0.0</td>\n",
       "      <td>NaN</td>\n",
       "    </tr>\n",
       "    <tr>\n",
       "      <th>2013-06-28</th>\n",
       "      <td>NaN</td>\n",
       "      <td>7.0</td>\n",
       "      <td>38.0</td>\n",
       "      <td>6.0</td>\n",
       "      <td>1.0</td>\n",
       "      <td>NaN</td>\n",
       "      <td>12.0</td>\n",
       "      <td>13.0</td>\n",
       "      <td>49.0</td>\n",
       "      <td>13.0</td>\n",
       "      <td>...</td>\n",
       "      <td>1.0</td>\n",
       "      <td>6.0</td>\n",
       "      <td>8.0</td>\n",
       "      <td>5.0</td>\n",
       "      <td>11.0</td>\n",
       "      <td>7.0</td>\n",
       "      <td>10.0</td>\n",
       "      <td>15.0</td>\n",
       "      <td>0.0</td>\n",
       "      <td>NaN</td>\n",
       "    </tr>\n",
       "    <tr>\n",
       "      <th>2013-07-01</th>\n",
       "      <td>NaN</td>\n",
       "      <td>7.0</td>\n",
       "      <td>40.0</td>\n",
       "      <td>6.0</td>\n",
       "      <td>1.0</td>\n",
       "      <td>NaN</td>\n",
       "      <td>12.0</td>\n",
       "      <td>12.0</td>\n",
       "      <td>49.0</td>\n",
       "      <td>13.0</td>\n",
       "      <td>...</td>\n",
       "      <td>1.0</td>\n",
       "      <td>6.0</td>\n",
       "      <td>10.0</td>\n",
       "      <td>5.0</td>\n",
       "      <td>11.0</td>\n",
       "      <td>7.0</td>\n",
       "      <td>10.0</td>\n",
       "      <td>15.0</td>\n",
       "      <td>0.0</td>\n",
       "      <td>NaN</td>\n",
       "    </tr>\n",
       "    <tr>\n",
       "      <th>...</th>\n",
       "      <td>...</td>\n",
       "      <td>...</td>\n",
       "      <td>...</td>\n",
       "      <td>...</td>\n",
       "      <td>...</td>\n",
       "      <td>...</td>\n",
       "      <td>...</td>\n",
       "      <td>...</td>\n",
       "      <td>...</td>\n",
       "      <td>...</td>\n",
       "      <td>...</td>\n",
       "      <td>...</td>\n",
       "      <td>...</td>\n",
       "      <td>...</td>\n",
       "      <td>...</td>\n",
       "      <td>...</td>\n",
       "      <td>...</td>\n",
       "      <td>...</td>\n",
       "      <td>...</td>\n",
       "      <td>...</td>\n",
       "      <td>...</td>\n",
       "    </tr>\n",
       "    <tr>\n",
       "      <th>2023-09-20</th>\n",
       "      <td>2.0</td>\n",
       "      <td>11.0</td>\n",
       "      <td>3.0</td>\n",
       "      <td>3.0</td>\n",
       "      <td>0.0</td>\n",
       "      <td>1.0</td>\n",
       "      <td>8.0</td>\n",
       "      <td>2.0</td>\n",
       "      <td>44.0</td>\n",
       "      <td>5.0</td>\n",
       "      <td>...</td>\n",
       "      <td>1.0</td>\n",
       "      <td>4.0</td>\n",
       "      <td>7.0</td>\n",
       "      <td>4.0</td>\n",
       "      <td>5.0</td>\n",
       "      <td>1.0</td>\n",
       "      <td>7.0</td>\n",
       "      <td>2.0</td>\n",
       "      <td>1.0</td>\n",
       "      <td>9.0</td>\n",
       "    </tr>\n",
       "    <tr>\n",
       "      <th>2023-09-21</th>\n",
       "      <td>2.0</td>\n",
       "      <td>11.0</td>\n",
       "      <td>3.0</td>\n",
       "      <td>3.0</td>\n",
       "      <td>0.0</td>\n",
       "      <td>1.0</td>\n",
       "      <td>8.0</td>\n",
       "      <td>2.0</td>\n",
       "      <td>44.0</td>\n",
       "      <td>5.0</td>\n",
       "      <td>...</td>\n",
       "      <td>1.0</td>\n",
       "      <td>4.0</td>\n",
       "      <td>7.0</td>\n",
       "      <td>4.0</td>\n",
       "      <td>5.0</td>\n",
       "      <td>1.0</td>\n",
       "      <td>7.0</td>\n",
       "      <td>2.0</td>\n",
       "      <td>1.0</td>\n",
       "      <td>9.0</td>\n",
       "    </tr>\n",
       "    <tr>\n",
       "      <th>2023-09-22</th>\n",
       "      <td>2.0</td>\n",
       "      <td>11.0</td>\n",
       "      <td>3.0</td>\n",
       "      <td>3.0</td>\n",
       "      <td>0.0</td>\n",
       "      <td>1.0</td>\n",
       "      <td>8.0</td>\n",
       "      <td>2.0</td>\n",
       "      <td>44.0</td>\n",
       "      <td>5.0</td>\n",
       "      <td>...</td>\n",
       "      <td>1.0</td>\n",
       "      <td>4.0</td>\n",
       "      <td>7.0</td>\n",
       "      <td>3.0</td>\n",
       "      <td>5.0</td>\n",
       "      <td>1.0</td>\n",
       "      <td>7.0</td>\n",
       "      <td>2.0</td>\n",
       "      <td>1.0</td>\n",
       "      <td>9.0</td>\n",
       "    </tr>\n",
       "    <tr>\n",
       "      <th>2023-09-25</th>\n",
       "      <td>2.0</td>\n",
       "      <td>11.0</td>\n",
       "      <td>3.0</td>\n",
       "      <td>3.0</td>\n",
       "      <td>0.0</td>\n",
       "      <td>1.0</td>\n",
       "      <td>8.0</td>\n",
       "      <td>2.0</td>\n",
       "      <td>44.0</td>\n",
       "      <td>5.0</td>\n",
       "      <td>...</td>\n",
       "      <td>1.0</td>\n",
       "      <td>4.0</td>\n",
       "      <td>7.0</td>\n",
       "      <td>4.0</td>\n",
       "      <td>5.0</td>\n",
       "      <td>1.0</td>\n",
       "      <td>7.0</td>\n",
       "      <td>2.0</td>\n",
       "      <td>1.0</td>\n",
       "      <td>9.0</td>\n",
       "    </tr>\n",
       "    <tr>\n",
       "      <th>2023-09-26</th>\n",
       "      <td>2.0</td>\n",
       "      <td>11.0</td>\n",
       "      <td>3.0</td>\n",
       "      <td>3.0</td>\n",
       "      <td>0.0</td>\n",
       "      <td>1.0</td>\n",
       "      <td>8.0</td>\n",
       "      <td>2.0</td>\n",
       "      <td>44.0</td>\n",
       "      <td>5.0</td>\n",
       "      <td>...</td>\n",
       "      <td>1.0</td>\n",
       "      <td>4.0</td>\n",
       "      <td>7.0</td>\n",
       "      <td>4.0</td>\n",
       "      <td>5.0</td>\n",
       "      <td>1.0</td>\n",
       "      <td>7.0</td>\n",
       "      <td>2.0</td>\n",
       "      <td>1.0</td>\n",
       "      <td>9.0</td>\n",
       "    </tr>\n",
       "  </tbody>\n",
       "</table>\n",
       "<p>2676 rows × 294 columns</p>\n",
       "</div>"
      ],
      "text/plain": [
       "            PH_PIP_P  PH_ASA_P  PH_ABS_P  PH_AGN_P  PH_APC_P  PH_CHP_P  \\\n",
       "date_id                                                                  \n",
       "2013-06-25       NaN       6.0      37.0       5.0       1.0       NaN   \n",
       "2013-06-26       NaN       7.0      38.0       6.0       1.0       NaN   \n",
       "2013-06-27       NaN       7.0      39.0       6.0       1.0       NaN   \n",
       "2013-06-28       NaN       7.0      38.0       6.0       1.0       NaN   \n",
       "2013-07-01       NaN       7.0      40.0       6.0       1.0       NaN   \n",
       "...              ...       ...       ...       ...       ...       ...   \n",
       "2023-09-20       2.0      11.0       3.0       3.0       0.0       1.0   \n",
       "2023-09-21       2.0      11.0       3.0       3.0       0.0       1.0   \n",
       "2023-09-22       2.0      11.0       3.0       3.0       0.0       1.0   \n",
       "2023-09-25       2.0      11.0       3.0       3.0       0.0       1.0   \n",
       "2023-09-26       2.0      11.0       3.0       3.0       0.0       1.0   \n",
       "\n",
       "            PH_CEU_P  PH_CIR_P  PH_CAA_P  PH_EEQ_P  ...  PH_MJC_P  PH_PCK_P  \\\n",
       "date_id                                             ...                       \n",
       "2013-06-25      12.0      13.0      46.0      12.0  ...       1.0       6.0   \n",
       "2013-06-26      12.0      13.0      47.0      13.0  ...       1.0       6.0   \n",
       "2013-06-27      12.0      12.0      49.0      13.0  ...       1.0       6.0   \n",
       "2013-06-28      12.0      13.0      49.0      13.0  ...       1.0       6.0   \n",
       "2013-07-01      12.0      12.0      49.0      13.0  ...       1.0       6.0   \n",
       "...              ...       ...       ...       ...  ...       ...       ...   \n",
       "2023-09-20       8.0       2.0      44.0       5.0  ...       1.0       4.0   \n",
       "2023-09-21       8.0       2.0      44.0       5.0  ...       1.0       4.0   \n",
       "2023-09-22       8.0       2.0      44.0       5.0  ...       1.0       4.0   \n",
       "2023-09-25       8.0       2.0      44.0       5.0  ...       1.0       4.0   \n",
       "2023-09-26       8.0       2.0      44.0       5.0  ...       1.0       4.0   \n",
       "\n",
       "            PH_MRP_P  PH_LOT_P  PH_BAG_P  PH_H2O_P  PH_PRC_P  PH_SSN_P  \\\n",
       "date_id                                                                  \n",
       "2013-06-25       8.0       5.0      11.0       7.0       9.0      15.0   \n",
       "2013-06-26       8.0       5.0      11.0       6.0       9.0      15.0   \n",
       "2013-06-27       8.0       5.0      11.0       7.0      10.0      14.0   \n",
       "2013-06-28       8.0       5.0      11.0       7.0      10.0      15.0   \n",
       "2013-07-01      10.0       5.0      11.0       7.0      10.0      15.0   \n",
       "...              ...       ...       ...       ...       ...       ...   \n",
       "2023-09-20       7.0       4.0       5.0       1.0       7.0       2.0   \n",
       "2023-09-21       7.0       4.0       5.0       1.0       7.0       2.0   \n",
       "2023-09-22       7.0       3.0       5.0       1.0       7.0       2.0   \n",
       "2023-09-25       7.0       4.0       5.0       1.0       7.0       2.0   \n",
       "2023-09-26       7.0       4.0       5.0       1.0       7.0       2.0   \n",
       "\n",
       "            PH_SIN_P  PH_SHK_P  \n",
       "date_id                         \n",
       "2013-06-25       0.0       NaN  \n",
       "2013-06-26       0.0       NaN  \n",
       "2013-06-27       0.0       NaN  \n",
       "2013-06-28       0.0       NaN  \n",
       "2013-07-01       0.0       NaN  \n",
       "...              ...       ...  \n",
       "2023-09-20       1.0       9.0  \n",
       "2023-09-21       1.0       9.0  \n",
       "2023-09-22       1.0       9.0  \n",
       "2023-09-25       1.0       9.0  \n",
       "2023-09-26       1.0       9.0  \n",
       "\n",
       "[2676 rows x 294 columns]"
      ]
     },
     "execution_count": 6,
     "metadata": {},
     "output_type": "execute_result"
    }
   ],
   "source": [
    "df_filtered"
   ]
  },
  {
   "cell_type": "markdown",
   "id": "e5972c7d-3d19-4113-bdf9-ba1f99d879a2",
   "metadata": {},
   "source": [
    "This cell is for calculating log returns."
   ]
  },
  {
   "cell_type": "code",
   "execution_count": 14,
   "id": "618a4da6-6351-4c26-b309-3c73063a1e97",
   "metadata": {
    "execution": {
     "iopub.execute_input": "2025-02-21T17:51:47.341422Z",
     "iopub.status.busy": "2025-02-21T17:51:47.340668Z",
     "iopub.status.idle": "2025-02-21T17:51:47.469945Z",
     "shell.execute_reply": "2025-02-21T17:51:47.468327Z",
     "shell.execute_reply.started": "2025-02-21T17:51:47.341354Z"
    }
   },
   "outputs": [],
   "source": [
    "PSE_log_returns = df_filtered.copy()\n",
    "numeric_cols = PSE_log_returns.columns.difference([\"date_id\"])\n",
    "PSE_log_returns[numeric_cols] = PSE_log_returns[numeric_cols].replace(0, np.nan)\n",
    "PSE_log_returns[numeric_cols] = np.log(\n",
    "    PSE_log_returns[numeric_cols] / PSE_log_returns[numeric_cols].shift(1)\n",
    ")"
   ]
  },
  {
   "cell_type": "markdown",
   "id": "485c6c4f-19a0-4ba3-b19e-f0b1260abb29",
   "metadata": {},
   "source": [
    "I removed the the row for September 25, 2013, and I filled all the nan values with zero."
   ]
  },
  {
   "cell_type": "code",
   "execution_count": 15,
   "id": "910a5f67-9f3d-408e-b1fa-fbbd898d4578",
   "metadata": {
    "execution": {
     "iopub.execute_input": "2025-02-21T17:51:52.726336Z",
     "iopub.status.busy": "2025-02-21T17:51:52.725647Z",
     "iopub.status.idle": "2025-02-21T17:51:52.767200Z",
     "shell.execute_reply": "2025-02-21T17:51:52.766391Z",
     "shell.execute_reply.started": "2025-02-21T17:51:52.726262Z"
    },
    "scrolled": true
   },
   "outputs": [
    {
     "data": {
      "text/html": [
       "<div>\n",
       "<style scoped>\n",
       "    .dataframe tbody tr th:only-of-type {\n",
       "        vertical-align: middle;\n",
       "    }\n",
       "\n",
       "    .dataframe tbody tr th {\n",
       "        vertical-align: top;\n",
       "    }\n",
       "\n",
       "    .dataframe thead th {\n",
       "        text-align: right;\n",
       "    }\n",
       "</style>\n",
       "<table border=\"1\" class=\"dataframe\">\n",
       "  <thead>\n",
       "    <tr style=\"text-align: right;\">\n",
       "      <th></th>\n",
       "      <th>ASA</th>\n",
       "      <th>ABS</th>\n",
       "      <th>AGN</th>\n",
       "    </tr>\n",
       "    <tr>\n",
       "      <th>date_id</th>\n",
       "      <th></th>\n",
       "      <th></th>\n",
       "      <th></th>\n",
       "    </tr>\n",
       "  </thead>\n",
       "  <tbody>\n",
       "    <tr>\n",
       "      <th>2013-06-26</th>\n",
       "      <td>0.154151</td>\n",
       "      <td>0.026668</td>\n",
       "      <td>0.182322</td>\n",
       "    </tr>\n",
       "    <tr>\n",
       "      <th>2013-06-27</th>\n",
       "      <td>0.000000</td>\n",
       "      <td>0.025975</td>\n",
       "      <td>0.000000</td>\n",
       "    </tr>\n",
       "    <tr>\n",
       "      <th>2013-06-28</th>\n",
       "      <td>0.000000</td>\n",
       "      <td>-0.025975</td>\n",
       "      <td>0.000000</td>\n",
       "    </tr>\n",
       "    <tr>\n",
       "      <th>2013-07-01</th>\n",
       "      <td>0.000000</td>\n",
       "      <td>0.051293</td>\n",
       "      <td>0.000000</td>\n",
       "    </tr>\n",
       "    <tr>\n",
       "      <th>2013-07-02</th>\n",
       "      <td>0.000000</td>\n",
       "      <td>0.000000</td>\n",
       "      <td>0.000000</td>\n",
       "    </tr>\n",
       "    <tr>\n",
       "      <th>...</th>\n",
       "      <td>...</td>\n",
       "      <td>...</td>\n",
       "      <td>...</td>\n",
       "    </tr>\n",
       "    <tr>\n",
       "      <th>2023-09-20</th>\n",
       "      <td>0.000000</td>\n",
       "      <td>0.000000</td>\n",
       "      <td>0.000000</td>\n",
       "    </tr>\n",
       "    <tr>\n",
       "      <th>2023-09-21</th>\n",
       "      <td>0.000000</td>\n",
       "      <td>0.000000</td>\n",
       "      <td>0.000000</td>\n",
       "    </tr>\n",
       "    <tr>\n",
       "      <th>2023-09-22</th>\n",
       "      <td>0.000000</td>\n",
       "      <td>0.000000</td>\n",
       "      <td>0.000000</td>\n",
       "    </tr>\n",
       "    <tr>\n",
       "      <th>2023-09-25</th>\n",
       "      <td>0.000000</td>\n",
       "      <td>0.000000</td>\n",
       "      <td>0.000000</td>\n",
       "    </tr>\n",
       "    <tr>\n",
       "      <th>2023-09-26</th>\n",
       "      <td>0.000000</td>\n",
       "      <td>0.000000</td>\n",
       "      <td>0.000000</td>\n",
       "    </tr>\n",
       "  </tbody>\n",
       "</table>\n",
       "<p>2675 rows × 3 columns</p>\n",
       "</div>"
      ],
      "text/plain": [
       "                 ASA       ABS       AGN\n",
       "date_id                                 \n",
       "2013-06-26  0.154151  0.026668  0.182322\n",
       "2013-06-27  0.000000  0.025975  0.000000\n",
       "2013-06-28  0.000000 -0.025975  0.000000\n",
       "2013-07-01  0.000000  0.051293  0.000000\n",
       "2013-07-02  0.000000  0.000000  0.000000\n",
       "...              ...       ...       ...\n",
       "2023-09-20  0.000000  0.000000  0.000000\n",
       "2023-09-21  0.000000  0.000000  0.000000\n",
       "2023-09-22  0.000000  0.000000  0.000000\n",
       "2023-09-25  0.000000  0.000000  0.000000\n",
       "2023-09-26  0.000000  0.000000  0.000000\n",
       "\n",
       "[2675 rows x 3 columns]"
      ]
     },
     "execution_count": 15,
     "metadata": {},
     "output_type": "execute_result"
    }
   ],
   "source": [
    "PSE_log_returns = PSE_log_returns.loc['2013-06-26':'2023-09-26']\n",
    "PSE_log_returns.columns = PSE_log_returns.columns.str.replace(r\"_P\", \"\").str.replace(r\"PH_\", \"\")\n",
    "\n",
    "# this was for testing\n",
    "least_null_cols = PSE_log_returns.isna().sum().nsmallest(3).index\n",
    "trial = PSE_log_returns[least_null_cols]\n",
    "trial"
   ]
  },
  {
   "cell_type": "code",
   "execution_count": 9,
   "id": "047b6d7d-98cd-4a1f-a6d5-9f39fbae1564",
   "metadata": {
    "execution": {
     "iopub.execute_input": "2025-02-20T02:57:42.578928Z",
     "iopub.status.busy": "2025-02-20T02:57:42.578728Z",
     "iopub.status.idle": "2025-02-20T02:57:42.593947Z",
     "shell.execute_reply": "2025-02-20T02:57:42.592867Z",
     "shell.execute_reply.started": "2025-02-20T02:57:42.578910Z"
    }
   },
   "outputs": [],
   "source": [
    "returns_df = PSE_log_returns.copy()\n",
    "PSE_log_returns = PSE_log_returns.to_numpy()"
   ]
  },
  {
   "cell_type": "markdown",
   "id": "118de945-c012-4b8e-81f6-0d59bcd05fb7",
   "metadata": {},
   "source": [
    "## Create the matrices"
   ]
  },
  {
   "cell_type": "markdown",
   "id": "566fa104-ccfc-4243-8670-1319e4ab58a3",
   "metadata": {
    "execution": {
     "iopub.execute_input": "2025-02-15T05:50:37.740968Z",
     "iopub.status.busy": "2025-02-15T05:50:37.740272Z",
     "iopub.status.idle": "2025-02-15T05:50:37.750420Z",
     "shell.execute_reply": "2025-02-15T05:50:37.748303Z",
     "shell.execute_reply.started": "2025-02-15T05:50:37.740906Z"
    }
   },
   "source": [
    "This has the functions to create the covariance and correlation matrices."
   ]
  },
  {
   "cell_type": "code",
   "execution_count": 10,
   "id": "2a1d78ec-a6ac-434b-9d86-88730afebb93",
   "metadata": {
    "execution": {
     "iopub.execute_input": "2025-02-20T02:57:42.594992Z",
     "iopub.status.busy": "2025-02-20T02:57:42.594782Z",
     "iopub.status.idle": "2025-02-20T02:57:42.602220Z",
     "shell.execute_reply": "2025-02-20T02:57:42.601439Z",
     "shell.execute_reply.started": "2025-02-20T02:57:42.594974Z"
    }
   },
   "outputs": [],
   "source": [
    "# from Prof. Jose's code with a few edits\n",
    "def returns_to_covar(returns):\n",
    "    num_col = skips\n",
    "    test = np.zeros(shape = (num_col, num_col))\n",
    "    \n",
    "    for i, j in list(itertools.combinations(np.arange(num_col), 2)):\n",
    "        row_mask = (~np.isnan(returns[:, i]))&(~np.isnan(returns[:, j]))\n",
    "        fraction_included = np.sum(row_mask) / len(returns)\n",
    "        \n",
    "        if fraction_included < 0.1:\n",
    "            test[i, j] = 0\n",
    "        else:\n",
    "            pi = returns[:, i][row_mask]\n",
    "            pj = returns[:, j][row_mask]\n",
    "            test[i, j] = np.sum((pi - np.mean(pi))*(pj - np.mean(pj)))/len(pi)\n",
    "            # print(i, j)\n",
    "    \n",
    "    test = np.where(test, test, test.T)\n",
    "    # for i in range(num_col):\n",
    "    #     test[i, i] = np.nanstd(returns[:, i])**2\n",
    "    \n",
    "    for i in range(num_col):\n",
    "        for j in range(i + 1, num_col):  # Iterate only over the upper triangle\n",
    "            test[j, i] = test[i, j]  # Copy the upper triangle to the lower triangle\n",
    " \n",
    "    return test\n",
    "\n",
    "# from: https://gist.github.com/wiso/ce2a9919ded228838703c1c7c7dad13b\n",
    "def covar_to_correl(cov_matrix):\n",
    "    std_devs = np.sqrt(np.diag(cov_matrix))\n",
    "    outer_v = np.outer(std_devs, std_devs)\n",
    "    correlation = cov_matrix / outer_v\n",
    "    correlation[cov_matrix == 0] = 0\n",
    "    return correlation\n",
    "\n",
    "# from: https://stackoverflow.com/questions/42908334/checking-if-a-matrix-is-symmetric-in-numpy\n",
    "def check_symmetric(a, rtol=1e-05, atol=1e-08):\n",
    "    return np.allclose(a, a.T, rtol=rtol, atol=atol)\n",
    "\n",
    "# def check_symmetric(a, tol=1e-8):\n",
    "#     return np.allclose(np.abs(a-a.T) < tol)\n",
    "\n",
    "# def check_symmetric(a, tol=1e-8):\n",
    "#     return np.allclose(a, a.T, atol=tol)\n",
    "\n",
    "# def check_symmetric_approx(a):\n",
    "#     return np.allclose(a, a.T)"
   ]
  },
  {
   "cell_type": "markdown",
   "id": "b95cfc1f-f638-42b4-b2d7-89f03bc1fdc1",
   "metadata": {},
   "source": [
    "This code is to create and save all the matrices (returns, covar, correl, and dist matrices) of each timestamp into one pickle file per date."
   ]
  },
  {
   "cell_type": "code",
   "execution_count": 11,
   "id": "3332dc92-fb3c-466e-9d07-be3049861ea6",
   "metadata": {
    "execution": {
     "iopub.execute_input": "2025-02-20T02:57:42.603156Z",
     "iopub.status.busy": "2025-02-20T02:57:42.602961Z",
     "iopub.status.idle": "2025-02-20T03:42:27.456137Z",
     "shell.execute_reply": "2025-02-20T03:42:27.454426Z",
     "shell.execute_reply.started": "2025-02-20T02:57:42.603139Z"
    }
   },
   "outputs": [
    {
     "name": "stderr",
     "output_type": "stream",
     "text": [
      "/tmp/ipykernel_19639/2139584762.py:32: RuntimeWarning: divide by zero encountered in divide\n",
      "  correlation = cov_matrix / outer_v\n",
      "/tmp/ipykernel_19639/2139584762.py:32: RuntimeWarning: invalid value encountered in divide\n",
      "  correlation = cov_matrix / outer_v\n"
     ]
    }
   ],
   "source": [
    "skips = len(returns_df.columns)\n",
    "window = 110\n",
    "counter = 0\n",
    "\n",
    "for i in range(len(returns_df.index)):\n",
    "    # this is to get the matrix\n",
    "    returns = PSE_log_returns[i:i+window]\n",
    "    returns = np.array(returns, dtype=np.float64)\n",
    "\n",
    "    # this is to get the covar matrix\n",
    "    covar_matrix = returns_to_covar(returns)\n",
    "    counter += 1\n",
    "    covar_matrix = np.array(covar_matrix, dtype=np.float64)\n",
    "    # print(f\"Covar matrix:\\n{covar_matrix}\")\n",
    "    \n",
    "    # this is to get the correl matrix\n",
    "    correl_matrix = covar_to_correl(covar_matrix)\n",
    "    correl_matrix = np.array(correl_matrix, dtype=np.float64)\n",
    "    # print(f\"Correl matrix:\\n{correl_matrix}\")\n",
    "    \n",
    "    # this is to get the distance matrix\n",
    "    distance_matrix = 1 - np.square(correl_matrix)\n",
    "    distance_matrix = np.array(distance_matrix, dtype=np.float64)\n",
    "    # print(f\"Distance matrix:\\n{distance_matrix}\")\n",
    "\n",
    "    # print(f\"index:{test_df.index[counter]}\")\n",
    "\n",
    "    # this is to save it in a pickle file\n",
    "    # tables = {\"PSE log returns\": returns,\n",
    "    #           \"covariance matrix\": covar_matrix, \n",
    "    #           \"correlation matrix\": correl_matrix, \n",
    "    #           \"distance matrix\": distance_matrix}\n",
    "    \n",
    "    # folder_path = \"matrices\"\n",
    "    # name = returns_df.index[counter-1]\n",
    "    # file_path = os.path.join(folder_path, f\"{window} {name}.pickl\")\n",
    "\n",
    "    # pd.to_pickle(tables, file_path)"
   ]
  },
  {
   "cell_type": "code",
   "execution_count": 12,
   "id": "62ff04cd-0f70-451b-9a7a-caac6082493e",
   "metadata": {
    "collapsed": true,
    "execution": {
     "iopub.execute_input": "2025-02-20T03:42:27.457467Z",
     "iopub.status.busy": "2025-02-20T03:42:27.457208Z",
     "iopub.status.idle": "2025-02-20T03:42:27.470199Z",
     "shell.execute_reply": "2025-02-20T03:42:27.469414Z",
     "shell.execute_reply.started": "2025-02-20T03:42:27.457442Z"
    },
    "jupyter": {
     "outputs_hidden": true
    },
    "scrolled": true
   },
   "outputs": [
    {
     "data": {
      "text/plain": [
       "{'PSE log returns': array([[ 0.        ,  0.        ,  0.        ,  0.        ,         nan,\n",
       "          0.        ,  0.        ,  0.        ,  0.        ,  0.        ,\n",
       "          0.        ,  0.        ,  0.        ,  0.        ,         nan,\n",
       "          0.        ,  0.        ,  0.        ,  0.        ,  0.        ,\n",
       "          0.        ,  0.        ,  0.        ,  0.        ,         nan,\n",
       "                 nan,  0.        ,  0.01709443,         nan,  0.        ,\n",
       "          0.        ,  0.00634923,  0.        ,  0.        ,  0.        ,\n",
       "          0.        ,  0.        ,  0.        ,  0.        ,  0.        ,\n",
       "          0.        ,  0.        ,  0.00542007,  0.        ,  0.        ,\n",
       "          0.        ,  0.        ,  0.        ,  0.        ,  0.        ,\n",
       "          0.        ,         nan,  0.        ,  0.        ,  0.03077166,\n",
       "          0.        ,  0.        ,  0.        ,  0.        ,  0.05406722,\n",
       "          0.        ,  0.        ,  0.        ,         nan,  0.        ,\n",
       "          0.        ,  0.        ,  0.        ,  0.        ,  0.        ,\n",
       "          0.        ,  0.        ,  0.        , -0.69314718,  0.        ,\n",
       "          0.        ,  0.        ,  0.        ,  0.        ,         nan,\n",
       "          0.        ,  0.        ,  0.        ,         nan,  0.01279335,\n",
       "          0.        ,  0.        ,  0.        ,  0.        ,  0.01162804,\n",
       "          0.        ,  0.        ,  0.        ,         nan,  0.        ,\n",
       "                 nan,  0.        ,         nan,  0.        ,  0.        ,\n",
       "          0.        ,  0.0159827 ,  0.        ,  0.        ,         nan,\n",
       "                 nan,         nan,  0.        ,  0.        ,  0.        ,\n",
       "          0.06136895,  0.        ,  0.        ,  0.        ,  0.        ,\n",
       "          0.        ,  0.        ,  0.        ,  0.        , -0.03390155,\n",
       "          0.        ,  0.        ,  0.        ,  0.        ,  0.        ,\n",
       "          0.        ,  0.06899287,  0.03419136,  0.        ,         nan,\n",
       "          0.05715841,  0.        ,  0.        ,  0.08004271,  0.        ,\n",
       "          0.05406722,  0.00947874,         nan,  0.        ,  0.        ,\n",
       "          0.01200495,  0.        ,         nan,  0.        ,  0.        ,\n",
       "                 nan,  0.        ,         nan,  0.        ,         nan,\n",
       "          0.        ,  0.        ,  0.        ,  0.        ,  0.        ,\n",
       "          0.        ,  0.        ,  0.        ,  0.        ,  0.        ,\n",
       "         -0.00491401,         nan,  0.        ,  0.        ,  0.        ,\n",
       "          0.        ,  0.        ,         nan,         nan,  0.        ,\n",
       "          0.        ,  0.        ,  0.        ,  0.        ,         nan,\n",
       "          0.        ,  0.        ,         nan,         nan,         nan,\n",
       "                 nan,  0.        ,  0.        ,         nan,         nan,\n",
       "                 nan,  0.        ,         nan,  0.        ,  0.        ,\n",
       "          0.        ,  0.        ,         nan,  0.        ,  0.        ,\n",
       "          0.        ,  0.        ,  0.        ,  0.        ,  0.        ,\n",
       "          0.        ,  0.        ,         nan,         nan,  0.01810749,\n",
       "          0.06899287,  0.        ,  0.        ,         nan,  0.        ,\n",
       "          0.        ,  0.        ,         nan,  0.        ,  0.        ,\n",
       "                 nan,         nan,  0.        ,         nan,  0.        ,\n",
       "                 nan,  0.        , -0.18232156,  0.        ,  0.        ,\n",
       "                 nan,  0.        ,  0.        ,  0.        ,  0.        ,\n",
       "          0.        ,  0.        ,  0.        ,  0.        ,         nan,\n",
       "                 nan,  0.        ,  0.        ,  0.        ,         nan,\n",
       "                 nan,         nan,         nan,         nan,         nan,\n",
       "          0.        ,  0.        ,  0.        ,  0.        , -0.28768207,\n",
       "          0.        ,  0.        ,  0.        ,         nan,  0.        ,\n",
       "          0.        ,  0.        ,  0.        ,  0.        ,  0.        ,\n",
       "          0.        ,  0.        ,  0.        ,  0.        ,  0.        ,\n",
       "                 nan,         nan,         nan,  0.        ,  0.        ,\n",
       "                 nan,  0.        ,  0.        ,  0.        ,  0.        ,\n",
       "          0.        ,  0.        ,  0.        ,  0.        ,  0.        ,\n",
       "          0.        ,  0.        ,  0.00441502,  0.        ,  0.        ,\n",
       "          0.        ,  0.        ,  0.        ,  0.        ,  0.        ,\n",
       "          0.        ,  0.        ,  0.        ,  0.        ]]),\n",
       " 'covariance matrix': array([[0., 0., 0., ..., 0., 0., 0.],\n",
       "        [0., 0., 0., ..., 0., 0., 0.],\n",
       "        [0., 0., 0., ..., 0., 0., 0.],\n",
       "        ...,\n",
       "        [0., 0., 0., ..., 0., 0., 0.],\n",
       "        [0., 0., 0., ..., 0., 0., 0.],\n",
       "        [0., 0., 0., ..., 0., 0., 0.]]),\n",
       " 'correlation matrix': array([[0., 0., 0., ..., 0., 0., 0.],\n",
       "        [0., 0., 0., ..., 0., 0., 0.],\n",
       "        [0., 0., 0., ..., 0., 0., 0.],\n",
       "        ...,\n",
       "        [0., 0., 0., ..., 0., 0., 0.],\n",
       "        [0., 0., 0., ..., 0., 0., 0.],\n",
       "        [0., 0., 0., ..., 0., 0., 0.]]),\n",
       " 'distance matrix': array([[1., 1., 1., ..., 1., 1., 1.],\n",
       "        [1., 1., 1., ..., 1., 1., 1.],\n",
       "        [1., 1., 1., ..., 1., 1., 1.],\n",
       "        ...,\n",
       "        [1., 1., 1., ..., 1., 1., 1.],\n",
       "        [1., 1., 1., ..., 1., 1., 1.],\n",
       "        [1., 1., 1., ..., 1., 1., 1.]])}"
      ]
     },
     "execution_count": 12,
     "metadata": {},
     "output_type": "execute_result"
    }
   ],
   "source": [
    "with open('matrices/110 2023-09-26 00:00:00.pickl', 'rb') as f:\n",
    "    abc123 = pickle.load(f)\n",
    "abc123"
   ]
  },
  {
   "cell_type": "markdown",
   "id": "76bf46af-2b77-4c5f-a347-f9867c19d06d",
   "metadata": {
    "execution": {
     "iopub.execute_input": "2025-02-14T15:35:30.717361Z",
     "iopub.status.busy": "2025-02-14T15:35:30.716022Z",
     "iopub.status.idle": "2025-02-14T15:35:30.724452Z",
     "shell.execute_reply": "2025-02-14T15:35:30.722934Z",
     "shell.execute_reply.started": "2025-02-14T15:35:30.717272Z"
    },
    "jp-MarkdownHeadingCollapsed": true
   },
   "source": [
    "# Goal: Test the code"
   ]
  },
  {
   "cell_type": "code",
   "execution_count": 13,
   "id": "6bf6b785-387f-4ad7-9703-738ae0ed3ab8",
   "metadata": {
    "execution": {
     "iopub.execute_input": "2025-02-20T03:42:27.470864Z",
     "iopub.status.busy": "2025-02-20T03:42:27.470674Z",
     "iopub.status.idle": "2025-02-20T03:42:28.235190Z",
     "shell.execute_reply": "2025-02-20T03:42:28.234143Z",
     "shell.execute_reply.started": "2025-02-20T03:42:27.470846Z"
    },
    "scrolled": true
   },
   "outputs": [
    {
     "ename": "InvalidIndexError",
     "evalue": "(slice(None, None, None), 0)",
     "output_type": "error",
     "traceback": [
      "\u001b[0;31m---------------------------------------------------------------------------\u001b[0m",
      "\u001b[0;31mKeyError\u001b[0m                                  Traceback (most recent call last)",
      "File \u001b[0;32m~/.local/lib/python3.12/site-packages/pandas/core/indexes/base.py:3805\u001b[0m, in \u001b[0;36mIndex.get_loc\u001b[0;34m(self, key)\u001b[0m\n\u001b[1;32m   3804\u001b[0m \u001b[38;5;28;01mtry\u001b[39;00m:\n\u001b[0;32m-> 3805\u001b[0m     \u001b[38;5;28;01mreturn\u001b[39;00m \u001b[38;5;28;43mself\u001b[39;49m\u001b[38;5;241;43m.\u001b[39;49m\u001b[43m_engine\u001b[49m\u001b[38;5;241;43m.\u001b[39;49m\u001b[43mget_loc\u001b[49m\u001b[43m(\u001b[49m\u001b[43mcasted_key\u001b[49m\u001b[43m)\u001b[49m\n\u001b[1;32m   3806\u001b[0m \u001b[38;5;28;01mexcept\u001b[39;00m \u001b[38;5;167;01mKeyError\u001b[39;00m \u001b[38;5;28;01mas\u001b[39;00m err:\n",
      "File \u001b[0;32mindex.pyx:167\u001b[0m, in \u001b[0;36mpandas._libs.index.IndexEngine.get_loc\u001b[0;34m()\u001b[0m\n",
      "File \u001b[0;32mindex.pyx:196\u001b[0m, in \u001b[0;36mpandas._libs.index.IndexEngine.get_loc\u001b[0;34m()\u001b[0m\n",
      "File \u001b[0;32mpandas/_libs/hashtable_class_helper.pxi:7081\u001b[0m, in \u001b[0;36mpandas._libs.hashtable.PyObjectHashTable.get_item\u001b[0;34m()\u001b[0m\n",
      "File \u001b[0;32mpandas/_libs/hashtable_class_helper.pxi:7089\u001b[0m, in \u001b[0;36mpandas._libs.hashtable.PyObjectHashTable.get_item\u001b[0;34m()\u001b[0m\n",
      "\u001b[0;31mKeyError\u001b[0m: (slice(None, None, None), 0)",
      "\nDuring handling of the above exception, another exception occurred:\n",
      "\u001b[0;31mInvalidIndexError\u001b[0m                         Traceback (most recent call last)",
      "Cell \u001b[0;32mIn[13], line 9\u001b[0m\n\u001b[1;32m      1\u001b[0m test \u001b[38;5;241m=\u001b[39m pd\u001b[38;5;241m.\u001b[39mDataFrame({\n\u001b[1;32m      2\u001b[0m     \u001b[38;5;124m'\u001b[39m\u001b[38;5;124ma\u001b[39m\u001b[38;5;124m'\u001b[39m:[\u001b[38;5;241m1\u001b[39m, \u001b[38;5;241m2\u001b[39m, \u001b[38;5;241m3\u001b[39m, \u001b[38;5;241m4\u001b[39m, \u001b[38;5;241m5\u001b[39m, \u001b[38;5;241m6\u001b[39m, \u001b[38;5;241m6\u001b[39m, \u001b[38;5;241m5\u001b[39m, \u001b[38;5;241m4\u001b[39m, \u001b[38;5;241m3\u001b[39m, \u001b[38;5;241m2\u001b[39m, \u001b[38;5;241m1\u001b[39m, \u001b[38;5;241m2\u001b[39m, \u001b[38;5;241m2\u001b[39m, \u001b[38;5;241m2\u001b[39m, \u001b[38;5;241m2\u001b[39m, \u001b[38;5;241m2\u001b[39m, \u001b[38;5;241m2\u001b[39m],\n\u001b[1;32m      3\u001b[0m     \u001b[38;5;124m'\u001b[39m\u001b[38;5;124mb\u001b[39m\u001b[38;5;124m'\u001b[39m:[\u001b[38;5;241m1\u001b[39m, \u001b[38;5;241m2\u001b[39m, \u001b[38;5;241m3\u001b[39m, \u001b[38;5;241m4\u001b[39m, \u001b[38;5;241m5\u001b[39m, \u001b[38;5;241m6\u001b[39m, \u001b[38;5;241m1\u001b[39m, \u001b[38;5;241m2\u001b[39m, \u001b[38;5;241m3\u001b[39m, \u001b[38;5;241m4\u001b[39m, \u001b[38;5;241m5\u001b[39m, \u001b[38;5;241m6\u001b[39m, \u001b[38;5;241m1\u001b[39m, \u001b[38;5;241m2\u001b[39m, \u001b[38;5;241m3\u001b[39m, \u001b[38;5;241m4\u001b[39m, \u001b[38;5;241m5\u001b[39m, \u001b[38;5;241m6\u001b[39m],\n\u001b[0;32m   (...)\u001b[0m\n\u001b[1;32m      6\u001b[0m     index\u001b[38;5;241m=\u001b[39mpd\u001b[38;5;241m.\u001b[39mdate_range(\u001b[38;5;241m20200601\u001b[39m, periods\u001b[38;5;241m=\u001b[39m\u001b[38;5;241m18\u001b[39m, freq\u001b[38;5;241m=\u001b[39m\u001b[38;5;124m'\u001b[39m\u001b[38;5;124md\u001b[39m\u001b[38;5;124m'\u001b[39m)\n\u001b[1;32m      7\u001b[0m )\n\u001b[0;32m----> 9\u001b[0m \u001b[43mreturns_to_covar\u001b[49m\u001b[43m(\u001b[49m\u001b[43mtest\u001b[49m\u001b[43m)\u001b[49m\n",
      "Cell \u001b[0;32mIn[10], line 7\u001b[0m, in \u001b[0;36mreturns_to_covar\u001b[0;34m(returns)\u001b[0m\n\u001b[1;32m      4\u001b[0m test \u001b[38;5;241m=\u001b[39m np\u001b[38;5;241m.\u001b[39mzeros(shape \u001b[38;5;241m=\u001b[39m (num_col, num_col))\n\u001b[1;32m      6\u001b[0m \u001b[38;5;28;01mfor\u001b[39;00m i, j \u001b[38;5;129;01min\u001b[39;00m \u001b[38;5;28mlist\u001b[39m(itertools\u001b[38;5;241m.\u001b[39mcombinations(np\u001b[38;5;241m.\u001b[39marange(num_col), \u001b[38;5;241m2\u001b[39m)):\n\u001b[0;32m----> 7\u001b[0m     row_mask \u001b[38;5;241m=\u001b[39m (\u001b[38;5;241m~\u001b[39mnp\u001b[38;5;241m.\u001b[39misnan(\u001b[43mreturns\u001b[49m\u001b[43m[\u001b[49m\u001b[43m:\u001b[49m\u001b[43m,\u001b[49m\u001b[43m \u001b[49m\u001b[43mi\u001b[49m\u001b[43m]\u001b[49m))\u001b[38;5;241m&\u001b[39m(\u001b[38;5;241m~\u001b[39mnp\u001b[38;5;241m.\u001b[39misnan(returns[:, j]))\n\u001b[1;32m      8\u001b[0m     fraction_included \u001b[38;5;241m=\u001b[39m np\u001b[38;5;241m.\u001b[39msum(row_mask) \u001b[38;5;241m/\u001b[39m \u001b[38;5;28mlen\u001b[39m(returns)\n\u001b[1;32m     10\u001b[0m     \u001b[38;5;28;01mif\u001b[39;00m fraction_included \u001b[38;5;241m<\u001b[39m \u001b[38;5;241m0.1\u001b[39m:\n",
      "File \u001b[0;32m~/.local/lib/python3.12/site-packages/pandas/core/frame.py:4102\u001b[0m, in \u001b[0;36mDataFrame.__getitem__\u001b[0;34m(self, key)\u001b[0m\n\u001b[1;32m   4100\u001b[0m \u001b[38;5;28;01mif\u001b[39;00m \u001b[38;5;28mself\u001b[39m\u001b[38;5;241m.\u001b[39mcolumns\u001b[38;5;241m.\u001b[39mnlevels \u001b[38;5;241m>\u001b[39m \u001b[38;5;241m1\u001b[39m:\n\u001b[1;32m   4101\u001b[0m     \u001b[38;5;28;01mreturn\u001b[39;00m \u001b[38;5;28mself\u001b[39m\u001b[38;5;241m.\u001b[39m_getitem_multilevel(key)\n\u001b[0;32m-> 4102\u001b[0m indexer \u001b[38;5;241m=\u001b[39m \u001b[38;5;28;43mself\u001b[39;49m\u001b[38;5;241;43m.\u001b[39;49m\u001b[43mcolumns\u001b[49m\u001b[38;5;241;43m.\u001b[39;49m\u001b[43mget_loc\u001b[49m\u001b[43m(\u001b[49m\u001b[43mkey\u001b[49m\u001b[43m)\u001b[49m\n\u001b[1;32m   4103\u001b[0m \u001b[38;5;28;01mif\u001b[39;00m is_integer(indexer):\n\u001b[1;32m   4104\u001b[0m     indexer \u001b[38;5;241m=\u001b[39m [indexer]\n",
      "File \u001b[0;32m~/.local/lib/python3.12/site-packages/pandas/core/indexes/base.py:3811\u001b[0m, in \u001b[0;36mIndex.get_loc\u001b[0;34m(self, key)\u001b[0m\n\u001b[1;32m   3806\u001b[0m \u001b[38;5;28;01mexcept\u001b[39;00m \u001b[38;5;167;01mKeyError\u001b[39;00m \u001b[38;5;28;01mas\u001b[39;00m err:\n\u001b[1;32m   3807\u001b[0m     \u001b[38;5;28;01mif\u001b[39;00m \u001b[38;5;28misinstance\u001b[39m(casted_key, \u001b[38;5;28mslice\u001b[39m) \u001b[38;5;129;01mor\u001b[39;00m (\n\u001b[1;32m   3808\u001b[0m         \u001b[38;5;28misinstance\u001b[39m(casted_key, abc\u001b[38;5;241m.\u001b[39mIterable)\n\u001b[1;32m   3809\u001b[0m         \u001b[38;5;129;01mand\u001b[39;00m \u001b[38;5;28many\u001b[39m(\u001b[38;5;28misinstance\u001b[39m(x, \u001b[38;5;28mslice\u001b[39m) \u001b[38;5;28;01mfor\u001b[39;00m x \u001b[38;5;129;01min\u001b[39;00m casted_key)\n\u001b[1;32m   3810\u001b[0m     ):\n\u001b[0;32m-> 3811\u001b[0m         \u001b[38;5;28;01mraise\u001b[39;00m InvalidIndexError(key)\n\u001b[1;32m   3812\u001b[0m     \u001b[38;5;28;01mraise\u001b[39;00m \u001b[38;5;167;01mKeyError\u001b[39;00m(key) \u001b[38;5;28;01mfrom\u001b[39;00m \u001b[38;5;21;01merr\u001b[39;00m\n\u001b[1;32m   3813\u001b[0m \u001b[38;5;28;01mexcept\u001b[39;00m \u001b[38;5;167;01mTypeError\u001b[39;00m:\n\u001b[1;32m   3814\u001b[0m     \u001b[38;5;66;03m# If we have a listlike key, _check_indexing_error will raise\u001b[39;00m\n\u001b[1;32m   3815\u001b[0m     \u001b[38;5;66;03m#  InvalidIndexError. Otherwise we fall through and re-raise\u001b[39;00m\n\u001b[1;32m   3816\u001b[0m     \u001b[38;5;66;03m#  the TypeError.\u001b[39;00m\n",
      "\u001b[0;31mInvalidIndexError\u001b[0m: (slice(None, None, None), 0)"
     ]
    }
   ],
   "source": [
    "test = pd.DataFrame({\n",
    "    'a':[1, 2, 3, 4, 5, 6, 6, 5, 4, 3, 2, 1, 2, 2, 2, 2, 2, 2],\n",
    "    'b':[1, 2, 3, 4, 5, 6, 1, 2, 3, 4, 5, 6, 1, 2, 3, 4, 5, 6],\n",
    "    'c':[np.nan, 1, 9, np.nan, 1, 9, np.nan, 1, 9, np.nan, 1, 9, np.nan, 1, 9, np.nan, 1, 9]\n",
    "},\n",
    "    index=pd.date_range(20200601, periods=18, freq='d')\n",
    ")\n",
    "\n",
    "returns_to_covar(test)"
   ]
  },
  {
   "cell_type": "markdown",
   "id": "5b3c91d1-1edb-47f8-afec-031a59c6939d",
   "metadata": {
    "jp-MarkdownHeadingCollapsed": true
   },
   "source": [
    "### Prof Jose"
   ]
  },
  {
   "cell_type": "markdown",
   "id": "ac12d212-5548-4489-8c22-721cb34e9d4b",
   "metadata": {},
   "source": [
    "boolean arrays, less for loops <br>\n",
    "covariance cant have null values nanstd <br>\n",
    "masked array<br>\n",
    "dendrogram <br>"
   ]
  },
  {
   "cell_type": "code",
   "execution_count": null,
   "id": "42018a18-da52-4474-83c8-3638ffabecad",
   "metadata": {
    "execution": {
     "iopub.status.busy": "2025-02-20T03:42:28.235566Z",
     "iopub.status.idle": "2025-02-20T03:42:28.235801Z",
     "shell.execute_reply": "2025-02-20T03:42:28.235693Z",
     "shell.execute_reply.started": "2025-02-20T03:42:28.235682Z"
    }
   },
   "outputs": [],
   "source": [
    "A = np.array([1, 2, 3, 4, 5, 6, np.nan])"
   ]
  },
  {
   "cell_type": "code",
   "execution_count": null,
   "id": "7bfac3a5-671f-48f3-b05b-3faa466e8600",
   "metadata": {
    "execution": {
     "iopub.status.busy": "2025-02-20T03:42:28.236442Z",
     "iopub.status.idle": "2025-02-20T03:42:28.236678Z",
     "shell.execute_reply": "2025-02-20T03:42:28.236574Z",
     "shell.execute_reply.started": "2025-02-20T03:42:28.236563Z"
    }
   },
   "outputs": [],
   "source": [
    "print(np.std(A))\n",
    "print(np.max(A))\n",
    "print(np.mean(A))"
   ]
  },
  {
   "cell_type": "code",
   "execution_count": null,
   "id": "cc1037b9-53a5-4b1a-8a1b-d849ae233733",
   "metadata": {
    "execution": {
     "iopub.status.busy": "2025-02-20T03:42:28.237131Z",
     "iopub.status.idle": "2025-02-20T03:42:28.237367Z",
     "shell.execute_reply": "2025-02-20T03:42:28.237255Z",
     "shell.execute_reply.started": "2025-02-20T03:42:28.237245Z"
    }
   },
   "outputs": [],
   "source": [
    "print(np.nanstd(A))\n",
    "print(np.nanmax(A))\n",
    "print(np.nanmean(A))"
   ]
  },
  {
   "cell_type": "code",
   "execution_count": null,
   "id": "0ef54418-3608-4461-8652-cb4d140f6856",
   "metadata": {
    "execution": {
     "iopub.status.busy": "2025-02-20T03:42:28.237763Z",
     "iopub.status.idle": "2025-02-20T03:42:28.237980Z",
     "shell.execute_reply": "2025-02-20T03:42:28.237882Z",
     "shell.execute_reply.started": "2025-02-20T03:42:28.237872Z"
    }
   },
   "outputs": [],
   "source": [
    "# masked array\n",
    "A[A > 3]"
   ]
  },
  {
   "cell_type": "code",
   "execution_count": null,
   "id": "ad39fe71-e96e-4e73-b37a-f87e23479328",
   "metadata": {
    "execution": {
     "iopub.status.busy": "2025-02-20T03:42:28.238414Z",
     "iopub.status.idle": "2025-02-20T03:42:28.238641Z",
     "shell.execute_reply": "2025-02-20T03:42:28.238540Z",
     "shell.execute_reply.started": "2025-02-20T03:42:28.238530Z"
    }
   },
   "outputs": [],
   "source": [
    "A > 3"
   ]
  }
 ],
 "metadata": {
  "kernelspec": {
   "display_name": "Python [conda env:base] *",
   "language": "python",
   "name": "conda-base-py"
  },
  "language_info": {
   "codemirror_mode": {
    "name": "ipython",
    "version": 3
   },
   "file_extension": ".py",
   "mimetype": "text/x-python",
   "name": "python",
   "nbconvert_exporter": "python",
   "pygments_lexer": "ipython3",
   "version": "3.12.8"
  }
 },
 "nbformat": 4,
 "nbformat_minor": 5
}
